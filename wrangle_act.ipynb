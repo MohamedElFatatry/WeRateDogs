{
 "cells": [
  {
   "cell_type": "markdown",
   "metadata": {},
   "source": [
    "# Data Gathering"
   ]
  },
  {
   "cell_type": "code",
   "execution_count": 256,
   "metadata": {},
   "outputs": [
    {
     "data": {
      "text/html": [
       "<div>\n",
       "<style scoped>\n",
       "    .dataframe tbody tr th:only-of-type {\n",
       "        vertical-align: middle;\n",
       "    }\n",
       "\n",
       "    .dataframe tbody tr th {\n",
       "        vertical-align: top;\n",
       "    }\n",
       "\n",
       "    .dataframe thead th {\n",
       "        text-align: right;\n",
       "    }\n",
       "</style>\n",
       "<table border=\"1\" class=\"dataframe\">\n",
       "  <thead>\n",
       "    <tr style=\"text-align: right;\">\n",
       "      <th></th>\n",
       "      <th>tweet_id</th>\n",
       "      <th>in_reply_to_status_id</th>\n",
       "      <th>in_reply_to_user_id</th>\n",
       "      <th>timestamp</th>\n",
       "      <th>source</th>\n",
       "      <th>text</th>\n",
       "      <th>retweeted_status_id</th>\n",
       "      <th>retweeted_status_user_id</th>\n",
       "      <th>retweeted_status_timestamp</th>\n",
       "      <th>expanded_urls</th>\n",
       "      <th>rating_numerator</th>\n",
       "      <th>rating_denominator</th>\n",
       "      <th>name</th>\n",
       "      <th>doggo</th>\n",
       "      <th>floofer</th>\n",
       "      <th>pupper</th>\n",
       "      <th>puppo</th>\n",
       "    </tr>\n",
       "  </thead>\n",
       "  <tbody>\n",
       "    <tr>\n",
       "      <th>0</th>\n",
       "      <td>892420643555336193</td>\n",
       "      <td>NaN</td>\n",
       "      <td>NaN</td>\n",
       "      <td>2017-08-01 16:23:56 +0000</td>\n",
       "      <td>&lt;a href=\"http://twitter.com/download/iphone\" r...</td>\n",
       "      <td>This is Phineas. He's a mystical boy. Only eve...</td>\n",
       "      <td>NaN</td>\n",
       "      <td>NaN</td>\n",
       "      <td>NaN</td>\n",
       "      <td>https://twitter.com/dog_rates/status/892420643...</td>\n",
       "      <td>13</td>\n",
       "      <td>10</td>\n",
       "      <td>Phineas</td>\n",
       "      <td>None</td>\n",
       "      <td>None</td>\n",
       "      <td>None</td>\n",
       "      <td>None</td>\n",
       "    </tr>\n",
       "    <tr>\n",
       "      <th>1</th>\n",
       "      <td>892177421306343426</td>\n",
       "      <td>NaN</td>\n",
       "      <td>NaN</td>\n",
       "      <td>2017-08-01 00:17:27 +0000</td>\n",
       "      <td>&lt;a href=\"http://twitter.com/download/iphone\" r...</td>\n",
       "      <td>This is Tilly. She's just checking pup on you....</td>\n",
       "      <td>NaN</td>\n",
       "      <td>NaN</td>\n",
       "      <td>NaN</td>\n",
       "      <td>https://twitter.com/dog_rates/status/892177421...</td>\n",
       "      <td>13</td>\n",
       "      <td>10</td>\n",
       "      <td>Tilly</td>\n",
       "      <td>None</td>\n",
       "      <td>None</td>\n",
       "      <td>None</td>\n",
       "      <td>None</td>\n",
       "    </tr>\n",
       "    <tr>\n",
       "      <th>2</th>\n",
       "      <td>891815181378084864</td>\n",
       "      <td>NaN</td>\n",
       "      <td>NaN</td>\n",
       "      <td>2017-07-31 00:18:03 +0000</td>\n",
       "      <td>&lt;a href=\"http://twitter.com/download/iphone\" r...</td>\n",
       "      <td>This is Archie. He is a rare Norwegian Pouncin...</td>\n",
       "      <td>NaN</td>\n",
       "      <td>NaN</td>\n",
       "      <td>NaN</td>\n",
       "      <td>https://twitter.com/dog_rates/status/891815181...</td>\n",
       "      <td>12</td>\n",
       "      <td>10</td>\n",
       "      <td>Archie</td>\n",
       "      <td>None</td>\n",
       "      <td>None</td>\n",
       "      <td>None</td>\n",
       "      <td>None</td>\n",
       "    </tr>\n",
       "    <tr>\n",
       "      <th>3</th>\n",
       "      <td>891689557279858688</td>\n",
       "      <td>NaN</td>\n",
       "      <td>NaN</td>\n",
       "      <td>2017-07-30 15:58:51 +0000</td>\n",
       "      <td>&lt;a href=\"http://twitter.com/download/iphone\" r...</td>\n",
       "      <td>This is Darla. She commenced a snooze mid meal...</td>\n",
       "      <td>NaN</td>\n",
       "      <td>NaN</td>\n",
       "      <td>NaN</td>\n",
       "      <td>https://twitter.com/dog_rates/status/891689557...</td>\n",
       "      <td>13</td>\n",
       "      <td>10</td>\n",
       "      <td>Darla</td>\n",
       "      <td>None</td>\n",
       "      <td>None</td>\n",
       "      <td>None</td>\n",
       "      <td>None</td>\n",
       "    </tr>\n",
       "    <tr>\n",
       "      <th>4</th>\n",
       "      <td>891327558926688256</td>\n",
       "      <td>NaN</td>\n",
       "      <td>NaN</td>\n",
       "      <td>2017-07-29 16:00:24 +0000</td>\n",
       "      <td>&lt;a href=\"http://twitter.com/download/iphone\" r...</td>\n",
       "      <td>This is Franklin. He would like you to stop ca...</td>\n",
       "      <td>NaN</td>\n",
       "      <td>NaN</td>\n",
       "      <td>NaN</td>\n",
       "      <td>https://twitter.com/dog_rates/status/891327558...</td>\n",
       "      <td>12</td>\n",
       "      <td>10</td>\n",
       "      <td>Franklin</td>\n",
       "      <td>None</td>\n",
       "      <td>None</td>\n",
       "      <td>None</td>\n",
       "      <td>None</td>\n",
       "    </tr>\n",
       "  </tbody>\n",
       "</table>\n",
       "</div>"
      ],
      "text/plain": [
       "             tweet_id  in_reply_to_status_id  in_reply_to_user_id  \\\n",
       "0  892420643555336193                    NaN                  NaN   \n",
       "1  892177421306343426                    NaN                  NaN   \n",
       "2  891815181378084864                    NaN                  NaN   \n",
       "3  891689557279858688                    NaN                  NaN   \n",
       "4  891327558926688256                    NaN                  NaN   \n",
       "\n",
       "                   timestamp  \\\n",
       "0  2017-08-01 16:23:56 +0000   \n",
       "1  2017-08-01 00:17:27 +0000   \n",
       "2  2017-07-31 00:18:03 +0000   \n",
       "3  2017-07-30 15:58:51 +0000   \n",
       "4  2017-07-29 16:00:24 +0000   \n",
       "\n",
       "                                              source  \\\n",
       "0  <a href=\"http://twitter.com/download/iphone\" r...   \n",
       "1  <a href=\"http://twitter.com/download/iphone\" r...   \n",
       "2  <a href=\"http://twitter.com/download/iphone\" r...   \n",
       "3  <a href=\"http://twitter.com/download/iphone\" r...   \n",
       "4  <a href=\"http://twitter.com/download/iphone\" r...   \n",
       "\n",
       "                                                text  retweeted_status_id  \\\n",
       "0  This is Phineas. He's a mystical boy. Only eve...                  NaN   \n",
       "1  This is Tilly. She's just checking pup on you....                  NaN   \n",
       "2  This is Archie. He is a rare Norwegian Pouncin...                  NaN   \n",
       "3  This is Darla. She commenced a snooze mid meal...                  NaN   \n",
       "4  This is Franklin. He would like you to stop ca...                  NaN   \n",
       "\n",
       "   retweeted_status_user_id retweeted_status_timestamp  \\\n",
       "0                       NaN                        NaN   \n",
       "1                       NaN                        NaN   \n",
       "2                       NaN                        NaN   \n",
       "3                       NaN                        NaN   \n",
       "4                       NaN                        NaN   \n",
       "\n",
       "                                       expanded_urls  rating_numerator  \\\n",
       "0  https://twitter.com/dog_rates/status/892420643...                13   \n",
       "1  https://twitter.com/dog_rates/status/892177421...                13   \n",
       "2  https://twitter.com/dog_rates/status/891815181...                12   \n",
       "3  https://twitter.com/dog_rates/status/891689557...                13   \n",
       "4  https://twitter.com/dog_rates/status/891327558...                12   \n",
       "\n",
       "   rating_denominator      name doggo floofer pupper puppo  \n",
       "0                  10   Phineas  None    None   None  None  \n",
       "1                  10     Tilly  None    None   None  None  \n",
       "2                  10    Archie  None    None   None  None  \n",
       "3                  10     Darla  None    None   None  None  \n",
       "4                  10  Franklin  None    None   None  None  "
      ]
     },
     "execution_count": 256,
     "metadata": {},
     "output_type": "execute_result"
    }
   ],
   "source": [
    "import pandas as pd\n",
    "import requests\n",
    "import numpy as np\n",
    "import tweepy\n",
    "import json\n",
    "import matplotlib.pyplot as plt\n",
    "\n",
    "# first import the file we downloaded manually and uploaded to our directory\n",
    "\n",
    "twitter_archive = pd.read_csv('/home/workspace/x.csv')\n",
    "twitter_archive.head()"
   ]
  },
  {
   "cell_type": "code",
   "execution_count": 3,
   "metadata": {},
   "outputs": [
    {
     "data": {
      "text/html": [
       "<div>\n",
       "<style scoped>\n",
       "    .dataframe tbody tr th:only-of-type {\n",
       "        vertical-align: middle;\n",
       "    }\n",
       "\n",
       "    .dataframe tbody tr th {\n",
       "        vertical-align: top;\n",
       "    }\n",
       "\n",
       "    .dataframe thead th {\n",
       "        text-align: right;\n",
       "    }\n",
       "</style>\n",
       "<table border=\"1\" class=\"dataframe\">\n",
       "  <thead>\n",
       "    <tr style=\"text-align: right;\">\n",
       "      <th></th>\n",
       "      <th>tweet_id</th>\n",
       "      <th>jpg_url</th>\n",
       "      <th>img_num</th>\n",
       "      <th>p1</th>\n",
       "      <th>p1_conf</th>\n",
       "      <th>p1_dog</th>\n",
       "      <th>p2</th>\n",
       "      <th>p2_conf</th>\n",
       "      <th>p2_dog</th>\n",
       "      <th>p3</th>\n",
       "      <th>p3_conf</th>\n",
       "      <th>p3_dog</th>\n",
       "    </tr>\n",
       "  </thead>\n",
       "  <tbody>\n",
       "    <tr>\n",
       "      <th>0</th>\n",
       "      <td>666020888022790149</td>\n",
       "      <td>https://pbs.twimg.com/media/CT4udn0WwAA0aMy.jpg</td>\n",
       "      <td>1</td>\n",
       "      <td>Welsh_springer_spaniel</td>\n",
       "      <td>0.465074</td>\n",
       "      <td>True</td>\n",
       "      <td>collie</td>\n",
       "      <td>0.156665</td>\n",
       "      <td>True</td>\n",
       "      <td>Shetland_sheepdog</td>\n",
       "      <td>0.061428</td>\n",
       "      <td>True</td>\n",
       "    </tr>\n",
       "    <tr>\n",
       "      <th>1</th>\n",
       "      <td>666029285002620928</td>\n",
       "      <td>https://pbs.twimg.com/media/CT42GRgUYAA5iDo.jpg</td>\n",
       "      <td>1</td>\n",
       "      <td>redbone</td>\n",
       "      <td>0.506826</td>\n",
       "      <td>True</td>\n",
       "      <td>miniature_pinscher</td>\n",
       "      <td>0.074192</td>\n",
       "      <td>True</td>\n",
       "      <td>Rhodesian_ridgeback</td>\n",
       "      <td>0.072010</td>\n",
       "      <td>True</td>\n",
       "    </tr>\n",
       "    <tr>\n",
       "      <th>2</th>\n",
       "      <td>666033412701032449</td>\n",
       "      <td>https://pbs.twimg.com/media/CT4521TWwAEvMyu.jpg</td>\n",
       "      <td>1</td>\n",
       "      <td>German_shepherd</td>\n",
       "      <td>0.596461</td>\n",
       "      <td>True</td>\n",
       "      <td>malinois</td>\n",
       "      <td>0.138584</td>\n",
       "      <td>True</td>\n",
       "      <td>bloodhound</td>\n",
       "      <td>0.116197</td>\n",
       "      <td>True</td>\n",
       "    </tr>\n",
       "    <tr>\n",
       "      <th>3</th>\n",
       "      <td>666044226329800704</td>\n",
       "      <td>https://pbs.twimg.com/media/CT5Dr8HUEAA-lEu.jpg</td>\n",
       "      <td>1</td>\n",
       "      <td>Rhodesian_ridgeback</td>\n",
       "      <td>0.408143</td>\n",
       "      <td>True</td>\n",
       "      <td>redbone</td>\n",
       "      <td>0.360687</td>\n",
       "      <td>True</td>\n",
       "      <td>miniature_pinscher</td>\n",
       "      <td>0.222752</td>\n",
       "      <td>True</td>\n",
       "    </tr>\n",
       "    <tr>\n",
       "      <th>4</th>\n",
       "      <td>666049248165822465</td>\n",
       "      <td>https://pbs.twimg.com/media/CT5IQmsXIAAKY4A.jpg</td>\n",
       "      <td>1</td>\n",
       "      <td>miniature_pinscher</td>\n",
       "      <td>0.560311</td>\n",
       "      <td>True</td>\n",
       "      <td>Rottweiler</td>\n",
       "      <td>0.243682</td>\n",
       "      <td>True</td>\n",
       "      <td>Doberman</td>\n",
       "      <td>0.154629</td>\n",
       "      <td>True</td>\n",
       "    </tr>\n",
       "  </tbody>\n",
       "</table>\n",
       "</div>"
      ],
      "text/plain": [
       "             tweet_id                                          jpg_url  \\\n",
       "0  666020888022790149  https://pbs.twimg.com/media/CT4udn0WwAA0aMy.jpg   \n",
       "1  666029285002620928  https://pbs.twimg.com/media/CT42GRgUYAA5iDo.jpg   \n",
       "2  666033412701032449  https://pbs.twimg.com/media/CT4521TWwAEvMyu.jpg   \n",
       "3  666044226329800704  https://pbs.twimg.com/media/CT5Dr8HUEAA-lEu.jpg   \n",
       "4  666049248165822465  https://pbs.twimg.com/media/CT5IQmsXIAAKY4A.jpg   \n",
       "\n",
       "   img_num                      p1   p1_conf  p1_dog                  p2  \\\n",
       "0        1  Welsh_springer_spaniel  0.465074    True              collie   \n",
       "1        1                 redbone  0.506826    True  miniature_pinscher   \n",
       "2        1         German_shepherd  0.596461    True            malinois   \n",
       "3        1     Rhodesian_ridgeback  0.408143    True             redbone   \n",
       "4        1      miniature_pinscher  0.560311    True          Rottweiler   \n",
       "\n",
       "    p2_conf  p2_dog                   p3   p3_conf  p3_dog  \n",
       "0  0.156665    True    Shetland_sheepdog  0.061428    True  \n",
       "1  0.074192    True  Rhodesian_ridgeback  0.072010    True  \n",
       "2  0.138584    True           bloodhound  0.116197    True  \n",
       "3  0.360687    True   miniature_pinscher  0.222752    True  \n",
       "4  0.243682    True             Doberman  0.154629    True  "
      ]
     },
     "execution_count": 3,
     "metadata": {},
     "output_type": "execute_result"
    }
   ],
   "source": [
    "# then we import the file from Udacity server using the url and requests library\n",
    "url = ' https://d17h27t6h515a5.cloudfront.net/topher/2017/August/599fd2ad_image-predictions/image-predictions.tsv'\n",
    "r = requests.get(url)\n",
    "# saving the file in our directory\n",
    "open('image-predictions.tsv', 'wb').write(r.content)\n",
    "image_predictions = pd.read_csv('image-predictions.tsv', sep = '\\t')\n",
    "image_predictions.head()"
   ]
  },
  {
   "cell_type": "code",
   "execution_count": null,
   "metadata": {},
   "outputs": [
    {
     "name": "stdout",
     "output_type": "stream",
     "text": [
      "Authentication OK\n",
      "Rate limit reached. Sleeping for: 742\n",
      "Rate limit reached. Sleeping for: 744\n"
     ]
    }
   ],
   "source": [
    "# authentication process to get to twitter API\n",
    "consumer_key = 'Hidden'\n",
    "consumer_secret = 'Hidden'\n",
    "access_token = 'Hidden'\n",
    "access_secret = 'Hidden'\n",
    "\n",
    "auth = tweepy.OAuthHandler(consumer_key, consumer_secret)\n",
    "auth.set_access_token(access_token, access_secret)\n",
    "\n",
    "api = tweepy.API(auth)\n",
    "# authentication confirmation\n",
    "try:\n",
    "    api.verify_credentials()\n",
    "    print(\"Authentication OK\")\n",
    "except:\n",
    "    print(\"Error during authentication\")\n",
    "    \n",
    "# accessing twitter API via tweepy library    \n",
    "api = tweepy.API(auth, wait_on_rate_limit=True,\n",
    "    wait_on_rate_limit_notify=True)    \n",
    "\n",
    "## Another solution to get the needed data directly without saving tweets JSON in a text file\n",
    "#tweet_id_list = twitter_archive[\"tweet_id\"].tolist()\n",
    "# retweet_counts = []\n",
    "# favourite_counts = []\n",
    "# for tweet_id in tweet_id_list:\n",
    "#     try:  \n",
    "#         tweet_status = api.get_status(tweet_id , tweet_mode='extended')\n",
    "#         retweet_counts.append(tweet_status._json[\"retweet_count\"])\n",
    "#     except:\n",
    "#         retweet_counts.append('NaN')\n",
    "        \n",
    "# for tweet_id in tweet_id_list:\n",
    "#     try:  \n",
    "#         tweet_status = api.get_status(tweet_id , tweet_mode='extended')\n",
    "#         favourite_counts.append(tweet_status._json[\"favourite_count\"])\n",
    "#     except:\n",
    "#         retweet_counts.append('NaN')\n",
    "\n",
    "# after a trial i found that some tweet don't exist anymore so i separated valid tweets from tweets giving error\n",
    "\n",
    "tweet_id_list = twitter_archive[\"tweet_id\"].tolist()\n",
    "valid_tweet_ids = []\n",
    "error_tweet_ids = []\n",
    "\n",
    "for tweet_id in tweet_id_list:   \n",
    "    try:\n",
    "        valid_tweet_ids.append(api.get_status(tweet_id , tweet_mode='extended'))\n",
    "    except:\n",
    "        error_tweet_ids.append(tweet_id)\n",
    "        \n",
    "# adding jsons for each valid tweet in a textfile \n",
    "list_of_jsons = []\n",
    "for tw in valid_tweet_ids:\n",
    "    list_of_jsons.append(tw._json)\n",
    "# saving the file    \n",
    "with open('tweet_json.txt', 'w') as file:\n",
    "        file.write(json.dumps(list_of_jsons))        \n",
    "              "
   ]
  },
  {
   "cell_type": "code",
   "execution_count": 4,
   "metadata": {},
   "outputs": [
    {
     "data": {
      "text/html": [
       "<div>\n",
       "<style scoped>\n",
       "    .dataframe tbody tr th:only-of-type {\n",
       "        vertical-align: middle;\n",
       "    }\n",
       "\n",
       "    .dataframe tbody tr th {\n",
       "        vertical-align: top;\n",
       "    }\n",
       "\n",
       "    .dataframe thead th {\n",
       "        text-align: right;\n",
       "    }\n",
       "</style>\n",
       "<table border=\"1\" class=\"dataframe\">\n",
       "  <thead>\n",
       "    <tr style=\"text-align: right;\">\n",
       "      <th></th>\n",
       "      <th>tweet_id</th>\n",
       "      <th>retweet_count</th>\n",
       "      <th>favorite_count</th>\n",
       "    </tr>\n",
       "  </thead>\n",
       "  <tbody>\n",
       "    <tr>\n",
       "      <th>0</th>\n",
       "      <td>892420643555336193</td>\n",
       "      <td>7548</td>\n",
       "      <td>35711</td>\n",
       "    </tr>\n",
       "    <tr>\n",
       "      <th>1</th>\n",
       "      <td>892177421306343426</td>\n",
       "      <td>5594</td>\n",
       "      <td>30871</td>\n",
       "    </tr>\n",
       "    <tr>\n",
       "      <th>2</th>\n",
       "      <td>891815181378084864</td>\n",
       "      <td>3705</td>\n",
       "      <td>23210</td>\n",
       "    </tr>\n",
       "    <tr>\n",
       "      <th>3</th>\n",
       "      <td>891689557279858688</td>\n",
       "      <td>7731</td>\n",
       "      <td>39006</td>\n",
       "    </tr>\n",
       "    <tr>\n",
       "      <th>4</th>\n",
       "      <td>891327558926688256</td>\n",
       "      <td>8332</td>\n",
       "      <td>37261</td>\n",
       "    </tr>\n",
       "  </tbody>\n",
       "</table>\n",
       "</div>"
      ],
      "text/plain": [
       "             tweet_id  retweet_count  favorite_count\n",
       "0  892420643555336193           7548           35711\n",
       "1  892177421306343426           5594           30871\n",
       "2  891815181378084864           3705           23210\n",
       "3  891689557279858688           7731           39006\n",
       "4  891327558926688256           8332           37261"
      ]
     },
     "execution_count": 4,
     "metadata": {},
     "output_type": "execute_result"
    }
   ],
   "source": [
    "# extracting retweets and favorites counts data from 'tweet_json.txt' to create a dataframe\n",
    "df_list = []\n",
    "with open('tweet_json.txt', 'r') as json_file:\n",
    "    data = json.load(json_file)\n",
    "    for line in data:\n",
    "\n",
    "        df_list.append({'tweet_id': line[\"id\"],'retweet_count': line[\"retweet_count\"],'favorite_count': line[\"favorite_count\"]})\n",
    "\n",
    "# Creating the dataframe\n",
    "r_f_counts= pd.DataFrame(df_list, columns = ['tweet_id','retweet_count', 'favorite_count'])\n",
    "r_f_counts.head()"
   ]
  },
  {
   "cell_type": "markdown",
   "metadata": {},
   "source": [
    "# Data Assessing\n",
    "## twitter_archive"
   ]
  },
  {
   "cell_type": "code",
   "execution_count": 5,
   "metadata": {},
   "outputs": [
    {
     "data": {
      "text/html": [
       "<div>\n",
       "<style scoped>\n",
       "    .dataframe tbody tr th:only-of-type {\n",
       "        vertical-align: middle;\n",
       "    }\n",
       "\n",
       "    .dataframe tbody tr th {\n",
       "        vertical-align: top;\n",
       "    }\n",
       "\n",
       "    .dataframe thead th {\n",
       "        text-align: right;\n",
       "    }\n",
       "</style>\n",
       "<table border=\"1\" class=\"dataframe\">\n",
       "  <thead>\n",
       "    <tr style=\"text-align: right;\">\n",
       "      <th></th>\n",
       "      <th>tweet_id</th>\n",
       "      <th>in_reply_to_status_id</th>\n",
       "      <th>in_reply_to_user_id</th>\n",
       "      <th>timestamp</th>\n",
       "      <th>source</th>\n",
       "      <th>text</th>\n",
       "      <th>retweeted_status_id</th>\n",
       "      <th>retweeted_status_user_id</th>\n",
       "      <th>retweeted_status_timestamp</th>\n",
       "      <th>expanded_urls</th>\n",
       "      <th>rating_numerator</th>\n",
       "      <th>rating_denominator</th>\n",
       "      <th>name</th>\n",
       "      <th>doggo</th>\n",
       "      <th>floofer</th>\n",
       "      <th>pupper</th>\n",
       "      <th>puppo</th>\n",
       "    </tr>\n",
       "  </thead>\n",
       "  <tbody>\n",
       "    <tr>\n",
       "      <th>97</th>\n",
       "      <td>873337748698140672</td>\n",
       "      <td>NaN</td>\n",
       "      <td>NaN</td>\n",
       "      <td>2017-06-10 00:35:19 +0000</td>\n",
       "      <td>&lt;a href=\"http://twitter.com/download/iphone\" r...</td>\n",
       "      <td>RT @dog_rates: This is Sierra. She's one preci...</td>\n",
       "      <td>8.732138e+17</td>\n",
       "      <td>4.196984e+09</td>\n",
       "      <td>2017-06-09 16:22:42 +0000</td>\n",
       "      <td>https://www.gofundme.com/help-my-baby-sierra-g...</td>\n",
       "      <td>12</td>\n",
       "      <td>10</td>\n",
       "      <td>Sierra</td>\n",
       "      <td>None</td>\n",
       "      <td>None</td>\n",
       "      <td>pupper</td>\n",
       "      <td>None</td>\n",
       "    </tr>\n",
       "    <tr>\n",
       "      <th>1352</th>\n",
       "      <td>703774238772166656</td>\n",
       "      <td>NaN</td>\n",
       "      <td>NaN</td>\n",
       "      <td>2016-02-28 02:50:28 +0000</td>\n",
       "      <td>&lt;a href=\"http://twitter.com/download/iphone\" r...</td>\n",
       "      <td>\"YOU CAN'T HANDLE THE TRUTH\" both 10/10 https:...</td>\n",
       "      <td>NaN</td>\n",
       "      <td>NaN</td>\n",
       "      <td>NaN</td>\n",
       "      <td>https://twitter.com/dog_rates/status/703774238...</td>\n",
       "      <td>10</td>\n",
       "      <td>10</td>\n",
       "      <td>None</td>\n",
       "      <td>None</td>\n",
       "      <td>None</td>\n",
       "      <td>None</td>\n",
       "      <td>None</td>\n",
       "    </tr>\n",
       "    <tr>\n",
       "      <th>284</th>\n",
       "      <td>838921590096166913</td>\n",
       "      <td>NaN</td>\n",
       "      <td>NaN</td>\n",
       "      <td>2017-03-07 01:17:48 +0000</td>\n",
       "      <td>&lt;a href=\"http://twitter.com/download/iphone\" r...</td>\n",
       "      <td>This is Arlo. He's officially the king of snow...</td>\n",
       "      <td>NaN</td>\n",
       "      <td>NaN</td>\n",
       "      <td>NaN</td>\n",
       "      <td>https://twitter.com/dog_rates/status/838921590...</td>\n",
       "      <td>13</td>\n",
       "      <td>10</td>\n",
       "      <td>Arlo</td>\n",
       "      <td>None</td>\n",
       "      <td>None</td>\n",
       "      <td>None</td>\n",
       "      <td>None</td>\n",
       "    </tr>\n",
       "    <tr>\n",
       "      <th>94</th>\n",
       "      <td>874012996292530176</td>\n",
       "      <td>NaN</td>\n",
       "      <td>NaN</td>\n",
       "      <td>2017-06-11 21:18:31 +0000</td>\n",
       "      <td>&lt;a href=\"http://twitter.com/download/iphone\" r...</td>\n",
       "      <td>This is Sebastian. He can't see all the colors...</td>\n",
       "      <td>NaN</td>\n",
       "      <td>NaN</td>\n",
       "      <td>NaN</td>\n",
       "      <td>https://twitter.com/dog_rates/status/874012996...</td>\n",
       "      <td>13</td>\n",
       "      <td>10</td>\n",
       "      <td>Sebastian</td>\n",
       "      <td>None</td>\n",
       "      <td>None</td>\n",
       "      <td>None</td>\n",
       "      <td>puppo</td>\n",
       "    </tr>\n",
       "    <tr>\n",
       "      <th>798</th>\n",
       "      <td>772877495989305348</td>\n",
       "      <td>NaN</td>\n",
       "      <td>NaN</td>\n",
       "      <td>2016-09-05 19:22:09 +0000</td>\n",
       "      <td>&lt;a href=\"http://twitter.com\" rel=\"nofollow\"&gt;Tw...</td>\n",
       "      <td>You need to watch these two doggos argue throu...</td>\n",
       "      <td>NaN</td>\n",
       "      <td>NaN</td>\n",
       "      <td>NaN</td>\n",
       "      <td>https://twitter.com/dog_rates/status/772877495...</td>\n",
       "      <td>11</td>\n",
       "      <td>10</td>\n",
       "      <td>None</td>\n",
       "      <td>None</td>\n",
       "      <td>None</td>\n",
       "      <td>None</td>\n",
       "      <td>None</td>\n",
       "    </tr>\n",
       "  </tbody>\n",
       "</table>\n",
       "</div>"
      ],
      "text/plain": [
       "                tweet_id  in_reply_to_status_id  in_reply_to_user_id  \\\n",
       "97    873337748698140672                    NaN                  NaN   \n",
       "1352  703774238772166656                    NaN                  NaN   \n",
       "284   838921590096166913                    NaN                  NaN   \n",
       "94    874012996292530176                    NaN                  NaN   \n",
       "798   772877495989305348                    NaN                  NaN   \n",
       "\n",
       "                      timestamp  \\\n",
       "97    2017-06-10 00:35:19 +0000   \n",
       "1352  2016-02-28 02:50:28 +0000   \n",
       "284   2017-03-07 01:17:48 +0000   \n",
       "94    2017-06-11 21:18:31 +0000   \n",
       "798   2016-09-05 19:22:09 +0000   \n",
       "\n",
       "                                                 source  \\\n",
       "97    <a href=\"http://twitter.com/download/iphone\" r...   \n",
       "1352  <a href=\"http://twitter.com/download/iphone\" r...   \n",
       "284   <a href=\"http://twitter.com/download/iphone\" r...   \n",
       "94    <a href=\"http://twitter.com/download/iphone\" r...   \n",
       "798   <a href=\"http://twitter.com\" rel=\"nofollow\">Tw...   \n",
       "\n",
       "                                                   text  retweeted_status_id  \\\n",
       "97    RT @dog_rates: This is Sierra. She's one preci...         8.732138e+17   \n",
       "1352  \"YOU CAN'T HANDLE THE TRUTH\" both 10/10 https:...                  NaN   \n",
       "284   This is Arlo. He's officially the king of snow...                  NaN   \n",
       "94    This is Sebastian. He can't see all the colors...                  NaN   \n",
       "798   You need to watch these two doggos argue throu...                  NaN   \n",
       "\n",
       "      retweeted_status_user_id retweeted_status_timestamp  \\\n",
       "97                4.196984e+09  2017-06-09 16:22:42 +0000   \n",
       "1352                       NaN                        NaN   \n",
       "284                        NaN                        NaN   \n",
       "94                         NaN                        NaN   \n",
       "798                        NaN                        NaN   \n",
       "\n",
       "                                          expanded_urls  rating_numerator  \\\n",
       "97    https://www.gofundme.com/help-my-baby-sierra-g...                12   \n",
       "1352  https://twitter.com/dog_rates/status/703774238...                10   \n",
       "284   https://twitter.com/dog_rates/status/838921590...                13   \n",
       "94    https://twitter.com/dog_rates/status/874012996...                13   \n",
       "798   https://twitter.com/dog_rates/status/772877495...                11   \n",
       "\n",
       "      rating_denominator       name doggo floofer  pupper  puppo  \n",
       "97                    10     Sierra  None    None  pupper   None  \n",
       "1352                  10       None  None    None    None   None  \n",
       "284                   10       Arlo  None    None    None   None  \n",
       "94                    10  Sebastian  None    None    None  puppo  \n",
       "798                   10       None  None    None    None   None  "
      ]
     },
     "execution_count": 5,
     "metadata": {},
     "output_type": "execute_result"
    }
   ],
   "source": [
    "twitter_archive.sample(5)"
   ]
  },
  {
   "cell_type": "code",
   "execution_count": 6,
   "metadata": {},
   "outputs": [
    {
     "name": "stdout",
     "output_type": "stream",
     "text": [
      "<class 'pandas.core.frame.DataFrame'>\n",
      "RangeIndex: 2356 entries, 0 to 2355\n",
      "Data columns (total 17 columns):\n",
      "tweet_id                      2356 non-null int64\n",
      "in_reply_to_status_id         78 non-null float64\n",
      "in_reply_to_user_id           78 non-null float64\n",
      "timestamp                     2356 non-null object\n",
      "source                        2356 non-null object\n",
      "text                          2356 non-null object\n",
      "retweeted_status_id           181 non-null float64\n",
      "retweeted_status_user_id      181 non-null float64\n",
      "retweeted_status_timestamp    181 non-null object\n",
      "expanded_urls                 2297 non-null object\n",
      "rating_numerator              2356 non-null int64\n",
      "rating_denominator            2356 non-null int64\n",
      "name                          2356 non-null object\n",
      "doggo                         2356 non-null object\n",
      "floofer                       2356 non-null object\n",
      "pupper                        2356 non-null object\n",
      "puppo                         2356 non-null object\n",
      "dtypes: float64(4), int64(3), object(10)\n",
      "memory usage: 313.0+ KB\n"
     ]
    }
   ],
   "source": [
    "twitter_archive.info()"
   ]
  },
  {
   "cell_type": "code",
   "execution_count": 7,
   "metadata": {},
   "outputs": [
    {
     "data": {
      "text/html": [
       "<div>\n",
       "<style scoped>\n",
       "    .dataframe tbody tr th:only-of-type {\n",
       "        vertical-align: middle;\n",
       "    }\n",
       "\n",
       "    .dataframe tbody tr th {\n",
       "        vertical-align: top;\n",
       "    }\n",
       "\n",
       "    .dataframe thead th {\n",
       "        text-align: right;\n",
       "    }\n",
       "</style>\n",
       "<table border=\"1\" class=\"dataframe\">\n",
       "  <thead>\n",
       "    <tr style=\"text-align: right;\">\n",
       "      <th></th>\n",
       "      <th>tweet_id</th>\n",
       "      <th>in_reply_to_status_id</th>\n",
       "      <th>in_reply_to_user_id</th>\n",
       "      <th>retweeted_status_id</th>\n",
       "      <th>retweeted_status_user_id</th>\n",
       "      <th>rating_numerator</th>\n",
       "      <th>rating_denominator</th>\n",
       "    </tr>\n",
       "  </thead>\n",
       "  <tbody>\n",
       "    <tr>\n",
       "      <th>count</th>\n",
       "      <td>2.356000e+03</td>\n",
       "      <td>7.800000e+01</td>\n",
       "      <td>7.800000e+01</td>\n",
       "      <td>1.810000e+02</td>\n",
       "      <td>1.810000e+02</td>\n",
       "      <td>2356.000000</td>\n",
       "      <td>2356.000000</td>\n",
       "    </tr>\n",
       "    <tr>\n",
       "      <th>mean</th>\n",
       "      <td>7.427716e+17</td>\n",
       "      <td>7.455079e+17</td>\n",
       "      <td>2.014171e+16</td>\n",
       "      <td>7.720400e+17</td>\n",
       "      <td>1.241698e+16</td>\n",
       "      <td>13.126486</td>\n",
       "      <td>10.455433</td>\n",
       "    </tr>\n",
       "    <tr>\n",
       "      <th>std</th>\n",
       "      <td>6.856705e+16</td>\n",
       "      <td>7.582492e+16</td>\n",
       "      <td>1.252797e+17</td>\n",
       "      <td>6.236928e+16</td>\n",
       "      <td>9.599254e+16</td>\n",
       "      <td>45.876648</td>\n",
       "      <td>6.745237</td>\n",
       "    </tr>\n",
       "    <tr>\n",
       "      <th>min</th>\n",
       "      <td>6.660209e+17</td>\n",
       "      <td>6.658147e+17</td>\n",
       "      <td>1.185634e+07</td>\n",
       "      <td>6.661041e+17</td>\n",
       "      <td>7.832140e+05</td>\n",
       "      <td>0.000000</td>\n",
       "      <td>0.000000</td>\n",
       "    </tr>\n",
       "    <tr>\n",
       "      <th>25%</th>\n",
       "      <td>6.783989e+17</td>\n",
       "      <td>6.757419e+17</td>\n",
       "      <td>3.086374e+08</td>\n",
       "      <td>7.186315e+17</td>\n",
       "      <td>4.196984e+09</td>\n",
       "      <td>10.000000</td>\n",
       "      <td>10.000000</td>\n",
       "    </tr>\n",
       "    <tr>\n",
       "      <th>50%</th>\n",
       "      <td>7.196279e+17</td>\n",
       "      <td>7.038708e+17</td>\n",
       "      <td>4.196984e+09</td>\n",
       "      <td>7.804657e+17</td>\n",
       "      <td>4.196984e+09</td>\n",
       "      <td>11.000000</td>\n",
       "      <td>10.000000</td>\n",
       "    </tr>\n",
       "    <tr>\n",
       "      <th>75%</th>\n",
       "      <td>7.993373e+17</td>\n",
       "      <td>8.257804e+17</td>\n",
       "      <td>4.196984e+09</td>\n",
       "      <td>8.203146e+17</td>\n",
       "      <td>4.196984e+09</td>\n",
       "      <td>12.000000</td>\n",
       "      <td>10.000000</td>\n",
       "    </tr>\n",
       "    <tr>\n",
       "      <th>max</th>\n",
       "      <td>8.924206e+17</td>\n",
       "      <td>8.862664e+17</td>\n",
       "      <td>8.405479e+17</td>\n",
       "      <td>8.874740e+17</td>\n",
       "      <td>7.874618e+17</td>\n",
       "      <td>1776.000000</td>\n",
       "      <td>170.000000</td>\n",
       "    </tr>\n",
       "  </tbody>\n",
       "</table>\n",
       "</div>"
      ],
      "text/plain": [
       "           tweet_id  in_reply_to_status_id  in_reply_to_user_id  \\\n",
       "count  2.356000e+03           7.800000e+01         7.800000e+01   \n",
       "mean   7.427716e+17           7.455079e+17         2.014171e+16   \n",
       "std    6.856705e+16           7.582492e+16         1.252797e+17   \n",
       "min    6.660209e+17           6.658147e+17         1.185634e+07   \n",
       "25%    6.783989e+17           6.757419e+17         3.086374e+08   \n",
       "50%    7.196279e+17           7.038708e+17         4.196984e+09   \n",
       "75%    7.993373e+17           8.257804e+17         4.196984e+09   \n",
       "max    8.924206e+17           8.862664e+17         8.405479e+17   \n",
       "\n",
       "       retweeted_status_id  retweeted_status_user_id  rating_numerator  \\\n",
       "count         1.810000e+02              1.810000e+02       2356.000000   \n",
       "mean          7.720400e+17              1.241698e+16         13.126486   \n",
       "std           6.236928e+16              9.599254e+16         45.876648   \n",
       "min           6.661041e+17              7.832140e+05          0.000000   \n",
       "25%           7.186315e+17              4.196984e+09         10.000000   \n",
       "50%           7.804657e+17              4.196984e+09         11.000000   \n",
       "75%           8.203146e+17              4.196984e+09         12.000000   \n",
       "max           8.874740e+17              7.874618e+17       1776.000000   \n",
       "\n",
       "       rating_denominator  \n",
       "count         2356.000000  \n",
       "mean            10.455433  \n",
       "std              6.745237  \n",
       "min              0.000000  \n",
       "25%             10.000000  \n",
       "50%             10.000000  \n",
       "75%             10.000000  \n",
       "max            170.000000  "
      ]
     },
     "execution_count": 7,
     "metadata": {},
     "output_type": "execute_result"
    }
   ],
   "source": [
    "twitter_archive.describe()"
   ]
  },
  {
   "cell_type": "code",
   "execution_count": 8,
   "metadata": {},
   "outputs": [
    {
     "data": {
      "text/plain": [
       "281"
      ]
     },
     "execution_count": 8,
     "metadata": {},
     "output_type": "execute_result"
    }
   ],
   "source": [
    "#checking for tweets with no images as they should be removed\n",
    "len(twitter_archive.tweet_id) - len(twitter_archive[twitter_archive.tweet_id.isin(image_predictions.tweet_id)])"
   ]
  },
  {
   "cell_type": "code",
   "execution_count": 9,
   "metadata": {},
   "outputs": [
    {
     "data": {
      "text/plain": [
       "<a href=\"http://twitter.com/download/iphone\" rel=\"nofollow\">Twitter for iPhone</a>     2221\n",
       "<a href=\"http://vine.co\" rel=\"nofollow\">Vine - Make a Scene</a>                          91\n",
       "<a href=\"http://twitter.com\" rel=\"nofollow\">Twitter Web Client</a>                       33\n",
       "<a href=\"https://about.twitter.com/products/tweetdeck\" rel=\"nofollow\">TweetDeck</a>      11\n",
       "Name: source, dtype: int64"
      ]
     },
     "execution_count": 9,
     "metadata": {},
     "output_type": "execute_result"
    }
   ],
   "source": [
    "twitter_archive.source.value_counts()"
   ]
  },
  {
   "cell_type": "code",
   "execution_count": 10,
   "metadata": {},
   "outputs": [
    {
     "data": {
      "text/plain": [
       "None        745\n",
       "a            55\n",
       "Charlie      12\n",
       "Cooper       11\n",
       "Oliver       11\n",
       "Lucy         11\n",
       "Tucker       10\n",
       "Penny        10\n",
       "Lola         10\n",
       "Bo            9\n",
       "Winston       9\n",
       "Sadie         8\n",
       "the           8\n",
       "an            7\n",
       "Buddy         7\n",
       "Bailey        7\n",
       "Toby          7\n",
       "Daisy         7\n",
       "Bella         6\n",
       "Milo          6\n",
       "Koda          6\n",
       "Stanley       6\n",
       "Scout         6\n",
       "Rusty         6\n",
       "Jack          6\n",
       "Leo           6\n",
       "Dave          6\n",
       "Jax           6\n",
       "Oscar         6\n",
       "very          5\n",
       "           ... \n",
       "Skittle       1\n",
       "Vixen         1\n",
       "Berkeley      1\n",
       "Banditt       1\n",
       "Mollie        1\n",
       "Danny         1\n",
       "Karl          1\n",
       "Nida          1\n",
       "Lenox         1\n",
       "Rodman        1\n",
       "Link          1\n",
       "JD            1\n",
       "Traviss       1\n",
       "Diogi         1\n",
       "Millie        1\n",
       "Jameson       1\n",
       "Sephie        1\n",
       "Bode          1\n",
       "Lilli         1\n",
       "Arlen         1\n",
       "Julius        1\n",
       "Batdog        1\n",
       "Kuyu          1\n",
       "Adele         1\n",
       "Joey          1\n",
       "Glenn         1\n",
       "Mingus        1\n",
       "Billy         1\n",
       "Zooey         1\n",
       "Rascal        1\n",
       "Name: name, Length: 957, dtype: int64"
      ]
     },
     "execution_count": 10,
     "metadata": {},
     "output_type": "execute_result"
    }
   ],
   "source": [
    "twitter_archive.name.value_counts()"
   ]
  },
  {
   "cell_type": "code",
   "execution_count": 11,
   "metadata": {},
   "outputs": [
    {
     "data": {
      "text/plain": [
       "12      558\n",
       "11      464\n",
       "10      461\n",
       "13      351\n",
       "9       158\n",
       "8       102\n",
       "7        55\n",
       "14       54\n",
       "5        37\n",
       "6        32\n",
       "3        19\n",
       "4        17\n",
       "1         9\n",
       "2         9\n",
       "420       2\n",
       "0         2\n",
       "15        2\n",
       "75        2\n",
       "80        1\n",
       "20        1\n",
       "24        1\n",
       "26        1\n",
       "44        1\n",
       "50        1\n",
       "60        1\n",
       "165       1\n",
       "84        1\n",
       "88        1\n",
       "144       1\n",
       "182       1\n",
       "143       1\n",
       "666       1\n",
       "960       1\n",
       "1776      1\n",
       "17        1\n",
       "27        1\n",
       "45        1\n",
       "99        1\n",
       "121       1\n",
       "204       1\n",
       "Name: rating_numerator, dtype: int64"
      ]
     },
     "execution_count": 11,
     "metadata": {},
     "output_type": "execute_result"
    }
   ],
   "source": [
    "twitter_archive.rating_numerator.value_counts()"
   ]
  },
  {
   "cell_type": "code",
   "execution_count": 12,
   "metadata": {},
   "outputs": [
    {
     "data": {
      "text/plain": [
       "10     2333\n",
       "11        3\n",
       "50        3\n",
       "80        2\n",
       "20        2\n",
       "2         1\n",
       "16        1\n",
       "40        1\n",
       "70        1\n",
       "15        1\n",
       "90        1\n",
       "110       1\n",
       "120       1\n",
       "130       1\n",
       "150       1\n",
       "170       1\n",
       "7         1\n",
       "0         1\n",
       "Name: rating_denominator, dtype: int64"
      ]
     },
     "execution_count": 12,
     "metadata": {},
     "output_type": "execute_result"
    }
   ],
   "source": [
    "twitter_archive.rating_denominator.value_counts()"
   ]
  },
  {
   "cell_type": "markdown",
   "metadata": {},
   "source": [
    "Quality Issues for twitter_archive :\n",
    "    1. we have 181 retweets should be removed\n",
    "    2.timestamp column is string not a timestamp\n",
    "    3.some columns should be removed like retweeted_status_id , retweeted_status_user_id , retweeted_status_timestamp...etc\n",
    "    4. we have 281 tweets without images should be removed\n",
    "    5.unnecessary html format of source column\n",
    "    6.some wrong dog names like a, an, the and his\n",
    "    7.numenator very high values and very low values (less than 10)\n",
    "    8.denominator values that are not 10\n",
    "    9.78 replies should be removed\n",
    "Tidiness issues for twitter_archive :\n",
    "    1. doggo, floffer, pupper and puppo columns should be merged as they represent one one parameter (dog stage)"
   ]
  },
  {
   "cell_type": "markdown",
   "metadata": {},
   "source": [
    "## image_predictions"
   ]
  },
  {
   "cell_type": "code",
   "execution_count": 13,
   "metadata": {},
   "outputs": [
    {
     "data": {
      "text/html": [
       "<div>\n",
       "<style scoped>\n",
       "    .dataframe tbody tr th:only-of-type {\n",
       "        vertical-align: middle;\n",
       "    }\n",
       "\n",
       "    .dataframe tbody tr th {\n",
       "        vertical-align: top;\n",
       "    }\n",
       "\n",
       "    .dataframe thead th {\n",
       "        text-align: right;\n",
       "    }\n",
       "</style>\n",
       "<table border=\"1\" class=\"dataframe\">\n",
       "  <thead>\n",
       "    <tr style=\"text-align: right;\">\n",
       "      <th></th>\n",
       "      <th>tweet_id</th>\n",
       "      <th>jpg_url</th>\n",
       "      <th>img_num</th>\n",
       "      <th>p1</th>\n",
       "      <th>p1_conf</th>\n",
       "      <th>p1_dog</th>\n",
       "      <th>p2</th>\n",
       "      <th>p2_conf</th>\n",
       "      <th>p2_dog</th>\n",
       "      <th>p3</th>\n",
       "      <th>p3_conf</th>\n",
       "      <th>p3_dog</th>\n",
       "    </tr>\n",
       "  </thead>\n",
       "  <tbody>\n",
       "    <tr>\n",
       "      <th>2035</th>\n",
       "      <td>884162670584377345</td>\n",
       "      <td>https://pbs.twimg.com/media/DEUtQbzW0AUTv_o.jpg</td>\n",
       "      <td>1</td>\n",
       "      <td>German_shepherd</td>\n",
       "      <td>0.707046</td>\n",
       "      <td>True</td>\n",
       "      <td>malinois</td>\n",
       "      <td>0.199396</td>\n",
       "      <td>True</td>\n",
       "      <td>Norwegian_elkhound</td>\n",
       "      <td>0.049148</td>\n",
       "      <td>True</td>\n",
       "    </tr>\n",
       "    <tr>\n",
       "      <th>1078</th>\n",
       "      <td>717790033953034240</td>\n",
       "      <td>https://pbs.twimg.com/media/CfYaOeMWQAAGfyP.jpg</td>\n",
       "      <td>1</td>\n",
       "      <td>car_mirror</td>\n",
       "      <td>0.819106</td>\n",
       "      <td>False</td>\n",
       "      <td>minibus</td>\n",
       "      <td>0.107383</td>\n",
       "      <td>False</td>\n",
       "      <td>cab</td>\n",
       "      <td>0.034846</td>\n",
       "      <td>False</td>\n",
       "    </tr>\n",
       "    <tr>\n",
       "      <th>1326</th>\n",
       "      <td>757354760399941633</td>\n",
       "      <td>https://pbs.twimg.com/media/CoKqIndWgAAattd.jpg</td>\n",
       "      <td>1</td>\n",
       "      <td>Italian_greyhound</td>\n",
       "      <td>0.914667</td>\n",
       "      <td>True</td>\n",
       "      <td>whippet</td>\n",
       "      <td>0.047774</td>\n",
       "      <td>True</td>\n",
       "      <td>ice_lolly</td>\n",
       "      <td>0.015477</td>\n",
       "      <td>False</td>\n",
       "    </tr>\n",
       "    <tr>\n",
       "      <th>1821</th>\n",
       "      <td>834574053763584002</td>\n",
       "      <td>https://pbs.twimg.com/media/C5UAqgyXAAAbMWH.jpg</td>\n",
       "      <td>1</td>\n",
       "      <td>toilet_tissue</td>\n",
       "      <td>0.262936</td>\n",
       "      <td>False</td>\n",
       "      <td>golden_retriever</td>\n",
       "      <td>0.226564</td>\n",
       "      <td>True</td>\n",
       "      <td>bathtub</td>\n",
       "      <td>0.078879</td>\n",
       "      <td>False</td>\n",
       "    </tr>\n",
       "    <tr>\n",
       "      <th>517</th>\n",
       "      <td>676440007570247681</td>\n",
       "      <td>https://pbs.twimg.com/media/CWMyl9EWUAAnZJ0.jpg</td>\n",
       "      <td>2</td>\n",
       "      <td>Maltese_dog</td>\n",
       "      <td>0.579472</td>\n",
       "      <td>True</td>\n",
       "      <td>toy_poodle</td>\n",
       "      <td>0.133446</td>\n",
       "      <td>True</td>\n",
       "      <td>Shih-Tzu</td>\n",
       "      <td>0.094397</td>\n",
       "      <td>True</td>\n",
       "    </tr>\n",
       "  </tbody>\n",
       "</table>\n",
       "</div>"
      ],
      "text/plain": [
       "                tweet_id                                          jpg_url  \\\n",
       "2035  884162670584377345  https://pbs.twimg.com/media/DEUtQbzW0AUTv_o.jpg   \n",
       "1078  717790033953034240  https://pbs.twimg.com/media/CfYaOeMWQAAGfyP.jpg   \n",
       "1326  757354760399941633  https://pbs.twimg.com/media/CoKqIndWgAAattd.jpg   \n",
       "1821  834574053763584002  https://pbs.twimg.com/media/C5UAqgyXAAAbMWH.jpg   \n",
       "517   676440007570247681  https://pbs.twimg.com/media/CWMyl9EWUAAnZJ0.jpg   \n",
       "\n",
       "      img_num                 p1   p1_conf  p1_dog                p2  \\\n",
       "2035        1    German_shepherd  0.707046    True          malinois   \n",
       "1078        1         car_mirror  0.819106   False           minibus   \n",
       "1326        1  Italian_greyhound  0.914667    True           whippet   \n",
       "1821        1      toilet_tissue  0.262936   False  golden_retriever   \n",
       "517         2        Maltese_dog  0.579472    True        toy_poodle   \n",
       "\n",
       "       p2_conf  p2_dog                  p3   p3_conf  p3_dog  \n",
       "2035  0.199396    True  Norwegian_elkhound  0.049148    True  \n",
       "1078  0.107383   False                 cab  0.034846   False  \n",
       "1326  0.047774    True           ice_lolly  0.015477   False  \n",
       "1821  0.226564    True             bathtub  0.078879   False  \n",
       "517   0.133446    True            Shih-Tzu  0.094397    True  "
      ]
     },
     "execution_count": 13,
     "metadata": {},
     "output_type": "execute_result"
    }
   ],
   "source": [
    "image_predictions.sample(5)"
   ]
  },
  {
   "cell_type": "code",
   "execution_count": 14,
   "metadata": {},
   "outputs": [
    {
     "name": "stdout",
     "output_type": "stream",
     "text": [
      "<class 'pandas.core.frame.DataFrame'>\n",
      "RangeIndex: 2075 entries, 0 to 2074\n",
      "Data columns (total 12 columns):\n",
      "tweet_id    2075 non-null int64\n",
      "jpg_url     2075 non-null object\n",
      "img_num     2075 non-null int64\n",
      "p1          2075 non-null object\n",
      "p1_conf     2075 non-null float64\n",
      "p1_dog      2075 non-null bool\n",
      "p2          2075 non-null object\n",
      "p2_conf     2075 non-null float64\n",
      "p2_dog      2075 non-null bool\n",
      "p3          2075 non-null object\n",
      "p3_conf     2075 non-null float64\n",
      "p3_dog      2075 non-null bool\n",
      "dtypes: bool(3), float64(3), int64(2), object(4)\n",
      "memory usage: 152.1+ KB\n"
     ]
    }
   ],
   "source": [
    "image_predictions.info()"
   ]
  },
  {
   "cell_type": "code",
   "execution_count": 15,
   "metadata": {},
   "outputs": [
    {
     "data": {
      "text/html": [
       "<div>\n",
       "<style scoped>\n",
       "    .dataframe tbody tr th:only-of-type {\n",
       "        vertical-align: middle;\n",
       "    }\n",
       "\n",
       "    .dataframe tbody tr th {\n",
       "        vertical-align: top;\n",
       "    }\n",
       "\n",
       "    .dataframe thead th {\n",
       "        text-align: right;\n",
       "    }\n",
       "</style>\n",
       "<table border=\"1\" class=\"dataframe\">\n",
       "  <thead>\n",
       "    <tr style=\"text-align: right;\">\n",
       "      <th></th>\n",
       "      <th>tweet_id</th>\n",
       "      <th>img_num</th>\n",
       "      <th>p1_conf</th>\n",
       "      <th>p2_conf</th>\n",
       "      <th>p3_conf</th>\n",
       "    </tr>\n",
       "  </thead>\n",
       "  <tbody>\n",
       "    <tr>\n",
       "      <th>count</th>\n",
       "      <td>2.075000e+03</td>\n",
       "      <td>2075.000000</td>\n",
       "      <td>2075.000000</td>\n",
       "      <td>2.075000e+03</td>\n",
       "      <td>2.075000e+03</td>\n",
       "    </tr>\n",
       "    <tr>\n",
       "      <th>mean</th>\n",
       "      <td>7.384514e+17</td>\n",
       "      <td>1.203855</td>\n",
       "      <td>0.594548</td>\n",
       "      <td>1.345886e-01</td>\n",
       "      <td>6.032417e-02</td>\n",
       "    </tr>\n",
       "    <tr>\n",
       "      <th>std</th>\n",
       "      <td>6.785203e+16</td>\n",
       "      <td>0.561875</td>\n",
       "      <td>0.271174</td>\n",
       "      <td>1.006657e-01</td>\n",
       "      <td>5.090593e-02</td>\n",
       "    </tr>\n",
       "    <tr>\n",
       "      <th>min</th>\n",
       "      <td>6.660209e+17</td>\n",
       "      <td>1.000000</td>\n",
       "      <td>0.044333</td>\n",
       "      <td>1.011300e-08</td>\n",
       "      <td>1.740170e-10</td>\n",
       "    </tr>\n",
       "    <tr>\n",
       "      <th>25%</th>\n",
       "      <td>6.764835e+17</td>\n",
       "      <td>1.000000</td>\n",
       "      <td>0.364412</td>\n",
       "      <td>5.388625e-02</td>\n",
       "      <td>1.622240e-02</td>\n",
       "    </tr>\n",
       "    <tr>\n",
       "      <th>50%</th>\n",
       "      <td>7.119988e+17</td>\n",
       "      <td>1.000000</td>\n",
       "      <td>0.588230</td>\n",
       "      <td>1.181810e-01</td>\n",
       "      <td>4.944380e-02</td>\n",
       "    </tr>\n",
       "    <tr>\n",
       "      <th>75%</th>\n",
       "      <td>7.932034e+17</td>\n",
       "      <td>1.000000</td>\n",
       "      <td>0.843855</td>\n",
       "      <td>1.955655e-01</td>\n",
       "      <td>9.180755e-02</td>\n",
       "    </tr>\n",
       "    <tr>\n",
       "      <th>max</th>\n",
       "      <td>8.924206e+17</td>\n",
       "      <td>4.000000</td>\n",
       "      <td>1.000000</td>\n",
       "      <td>4.880140e-01</td>\n",
       "      <td>2.734190e-01</td>\n",
       "    </tr>\n",
       "  </tbody>\n",
       "</table>\n",
       "</div>"
      ],
      "text/plain": [
       "           tweet_id      img_num      p1_conf       p2_conf       p3_conf\n",
       "count  2.075000e+03  2075.000000  2075.000000  2.075000e+03  2.075000e+03\n",
       "mean   7.384514e+17     1.203855     0.594548  1.345886e-01  6.032417e-02\n",
       "std    6.785203e+16     0.561875     0.271174  1.006657e-01  5.090593e-02\n",
       "min    6.660209e+17     1.000000     0.044333  1.011300e-08  1.740170e-10\n",
       "25%    6.764835e+17     1.000000     0.364412  5.388625e-02  1.622240e-02\n",
       "50%    7.119988e+17     1.000000     0.588230  1.181810e-01  4.944380e-02\n",
       "75%    7.932034e+17     1.000000     0.843855  1.955655e-01  9.180755e-02\n",
       "max    8.924206e+17     4.000000     1.000000  4.880140e-01  2.734190e-01"
      ]
     },
     "execution_count": 15,
     "metadata": {},
     "output_type": "execute_result"
    }
   ],
   "source": [
    "image_predictions.describe()"
   ]
  },
  {
   "cell_type": "markdown",
   "metadata": {},
   "source": [
    "Quality issues for image_predictions :\n",
    "\n",
    "    1.rows that don't have dog images should be removed (p1_dog , p2_dog , and p3_dog are false)\n",
    "    2.only the breed with the highest conf should be kept and remove others and create new column called (dog breed)\n",
    "    \n",
    "Tidiness issues for image_predictions :\n",
    "\n",
    "    1.the whole dataframe should be merged with twitter_archive ("
   ]
  },
  {
   "cell_type": "markdown",
   "metadata": {},
   "source": [
    "## r_f_counts"
   ]
  },
  {
   "cell_type": "code",
   "execution_count": 16,
   "metadata": {},
   "outputs": [
    {
     "data": {
      "text/html": [
       "<div>\n",
       "<style scoped>\n",
       "    .dataframe tbody tr th:only-of-type {\n",
       "        vertical-align: middle;\n",
       "    }\n",
       "\n",
       "    .dataframe tbody tr th {\n",
       "        vertical-align: top;\n",
       "    }\n",
       "\n",
       "    .dataframe thead th {\n",
       "        text-align: right;\n",
       "    }\n",
       "</style>\n",
       "<table border=\"1\" class=\"dataframe\">\n",
       "  <thead>\n",
       "    <tr style=\"text-align: right;\">\n",
       "      <th></th>\n",
       "      <th>tweet_id</th>\n",
       "      <th>retweet_count</th>\n",
       "      <th>favorite_count</th>\n",
       "    </tr>\n",
       "  </thead>\n",
       "  <tbody>\n",
       "    <tr>\n",
       "      <th>1802</th>\n",
       "      <td>676430933382295552</td>\n",
       "      <td>325</td>\n",
       "      <td>1349</td>\n",
       "    </tr>\n",
       "    <tr>\n",
       "      <th>368</th>\n",
       "      <td>826958653328592898</td>\n",
       "      <td>4943</td>\n",
       "      <td>21492</td>\n",
       "    </tr>\n",
       "    <tr>\n",
       "      <th>1945</th>\n",
       "      <td>673295268553605120</td>\n",
       "      <td>2977</td>\n",
       "      <td>7157</td>\n",
       "    </tr>\n",
       "    <tr>\n",
       "      <th>1911</th>\n",
       "      <td>673956914389192708</td>\n",
       "      <td>902</td>\n",
       "      <td>1865</td>\n",
       "    </tr>\n",
       "    <tr>\n",
       "      <th>955</th>\n",
       "      <td>749981277374128128</td>\n",
       "      <td>2427</td>\n",
       "      <td>5070</td>\n",
       "    </tr>\n",
       "  </tbody>\n",
       "</table>\n",
       "</div>"
      ],
      "text/plain": [
       "                tweet_id  retweet_count  favorite_count\n",
       "1802  676430933382295552            325            1349\n",
       "368   826958653328592898           4943           21492\n",
       "1945  673295268553605120           2977            7157\n",
       "1911  673956914389192708            902            1865\n",
       "955   749981277374128128           2427            5070"
      ]
     },
     "execution_count": 16,
     "metadata": {},
     "output_type": "execute_result"
    }
   ],
   "source": [
    "r_f_counts.sample(5)"
   ]
  },
  {
   "cell_type": "code",
   "execution_count": 17,
   "metadata": {},
   "outputs": [
    {
     "name": "stdout",
     "output_type": "stream",
     "text": [
      "<class 'pandas.core.frame.DataFrame'>\n",
      "RangeIndex: 2331 entries, 0 to 2330\n",
      "Data columns (total 3 columns):\n",
      "tweet_id          2331 non-null int64\n",
      "retweet_count     2331 non-null int64\n",
      "favorite_count    2331 non-null int64\n",
      "dtypes: int64(3)\n",
      "memory usage: 54.7 KB\n"
     ]
    }
   ],
   "source": [
    "r_f_counts.info()"
   ]
  },
  {
   "cell_type": "code",
   "execution_count": 18,
   "metadata": {},
   "outputs": [
    {
     "data": {
      "text/html": [
       "<div>\n",
       "<style scoped>\n",
       "    .dataframe tbody tr th:only-of-type {\n",
       "        vertical-align: middle;\n",
       "    }\n",
       "\n",
       "    .dataframe tbody tr th {\n",
       "        vertical-align: top;\n",
       "    }\n",
       "\n",
       "    .dataframe thead th {\n",
       "        text-align: right;\n",
       "    }\n",
       "</style>\n",
       "<table border=\"1\" class=\"dataframe\">\n",
       "  <thead>\n",
       "    <tr style=\"text-align: right;\">\n",
       "      <th></th>\n",
       "      <th>tweet_id</th>\n",
       "      <th>retweet_count</th>\n",
       "      <th>favorite_count</th>\n",
       "    </tr>\n",
       "  </thead>\n",
       "  <tbody>\n",
       "    <tr>\n",
       "      <th>count</th>\n",
       "      <td>2.331000e+03</td>\n",
       "      <td>2331.00000</td>\n",
       "      <td>2331.000000</td>\n",
       "    </tr>\n",
       "    <tr>\n",
       "      <th>mean</th>\n",
       "      <td>7.419079e+17</td>\n",
       "      <td>2654.26598</td>\n",
       "      <td>7461.281853</td>\n",
       "    </tr>\n",
       "    <tr>\n",
       "      <th>std</th>\n",
       "      <td>6.823170e+16</td>\n",
       "      <td>4489.34126</td>\n",
       "      <td>11584.513675</td>\n",
       "    </tr>\n",
       "    <tr>\n",
       "      <th>min</th>\n",
       "      <td>6.660209e+17</td>\n",
       "      <td>1.00000</td>\n",
       "      <td>0.000000</td>\n",
       "    </tr>\n",
       "    <tr>\n",
       "      <th>25%</th>\n",
       "      <td>6.782670e+17</td>\n",
       "      <td>537.00000</td>\n",
       "      <td>1297.000000</td>\n",
       "    </tr>\n",
       "    <tr>\n",
       "      <th>50%</th>\n",
       "      <td>7.182469e+17</td>\n",
       "      <td>1242.00000</td>\n",
       "      <td>3243.000000</td>\n",
       "    </tr>\n",
       "    <tr>\n",
       "      <th>75%</th>\n",
       "      <td>7.986692e+17</td>\n",
       "      <td>3083.00000</td>\n",
       "      <td>9139.000000</td>\n",
       "    </tr>\n",
       "    <tr>\n",
       "      <th>max</th>\n",
       "      <td>8.924206e+17</td>\n",
       "      <td>76285.00000</td>\n",
       "      <td>153970.000000</td>\n",
       "    </tr>\n",
       "  </tbody>\n",
       "</table>\n",
       "</div>"
      ],
      "text/plain": [
       "           tweet_id  retweet_count  favorite_count\n",
       "count  2.331000e+03     2331.00000     2331.000000\n",
       "mean   7.419079e+17     2654.26598     7461.281853\n",
       "std    6.823170e+16     4489.34126    11584.513675\n",
       "min    6.660209e+17        1.00000        0.000000\n",
       "25%    6.782670e+17      537.00000     1297.000000\n",
       "50%    7.182469e+17     1242.00000     3243.000000\n",
       "75%    7.986692e+17     3083.00000     9139.000000\n",
       "max    8.924206e+17    76285.00000   153970.000000"
      ]
     },
     "execution_count": 18,
     "metadata": {},
     "output_type": "execute_result"
    }
   ],
   "source": [
    "r_f_counts.describe()"
   ]
  },
  {
   "cell_type": "markdown",
   "metadata": {},
   "source": [
    "Tidiness issues for r_f_counts :\n",
    "\n",
    "    1.this dataframe should be merged with twitter_archive dataframe"
   ]
  },
  {
   "cell_type": "markdown",
   "metadata": {},
   "source": [
    "## Summary for data assessing\n",
    "\n",
    "###      Quality issues : \n",
    "        1. we have 181 retweets should be removed\n",
    "        2.timestamp column is string not a timestamp\n",
    "        3.Columns should be removed like retweeted_status_id, retweeted_status_user_id, retweeted_status_timestamp...etc\n",
    "        4.we have 281 tweets without images should be removed\n",
    "        5.unnecessary html format of source column\n",
    "        6.some wrong dog names like a, an, the and his\n",
    "        7.numenator very high values and very low values (less than 10)\n",
    "        8.denominator values that are not 10\n",
    "        9.78 replies should be removed\n",
    "        10.rows that don't have dog images should be removed (p1_dog , p2_dog , and p3_dog are false)\n",
    "        11.only the breed with the highest conf should be kept and remove others and create new column called (dog breed)\n",
    "        \n",
    "###      Tidiness issues :\n",
    "        1.doggo, floofer, pupper and puppo columns should be merged as they represent one one parameter (dog stage)\n",
    "        2.all three dataframes should be merged as they are relevant"
   ]
  },
  {
   "cell_type": "markdown",
   "metadata": {},
   "source": [
    "# Data Cleaning"
   ]
  },
  {
   "cell_type": "code",
   "execution_count": 223,
   "metadata": {},
   "outputs": [],
   "source": [
    "twitter_archive_clean = twitter_archive.copy()\n",
    "image_predictions_clean = image_predictions.copy()\n",
    "r_f_counts_clean = r_f_counts.copy()"
   ]
  },
  {
   "cell_type": "markdown",
   "metadata": {},
   "source": [
    "## Tidiness issues\n",
    "\n",
    "### 1.doggo, floofer, pupper and puppo columns should be merged as they represent one one parameter (dog_stage)\n",
    "\n",
    "### Define \n",
    "since each dog has only one stage so it is unnecessary to have 4 columns \n",
    "\n",
    "### Code"
   ]
  },
  {
   "cell_type": "code",
   "execution_count": 224,
   "metadata": {},
   "outputs": [],
   "source": [
    "twitter_archive_clean['doggo'].replace('None',twitter_archive_clean['floofer'], inplace = True)\n",
    "twitter_archive_clean['doggo'].replace('None',twitter_archive_clean['pupper'], inplace = True)\n",
    "twitter_archive_clean['doggo'].replace('None',twitter_archive_clean['puppo'], inplace = True)"
   ]
  },
  {
   "cell_type": "code",
   "execution_count": 225,
   "metadata": {},
   "outputs": [],
   "source": [
    "twitter_archive_clean.drop(['floofer', 'pupper', 'puppo'], axis = 1, inplace = True)\n",
    "\n",
    "twitter_archive_clean.rename(columns={\"doggo\": \"dog_stage\"}, inplace = True)"
   ]
  },
  {
   "cell_type": "markdown",
   "metadata": {},
   "source": [
    "### Test"
   ]
  },
  {
   "cell_type": "code",
   "execution_count": 226,
   "metadata": {},
   "outputs": [
    {
     "name": "stdout",
     "output_type": "stream",
     "text": [
      "<class 'pandas.core.frame.DataFrame'>\n",
      "RangeIndex: 2356 entries, 0 to 2355\n",
      "Data columns (total 14 columns):\n",
      "tweet_id                      2356 non-null int64\n",
      "in_reply_to_status_id         78 non-null float64\n",
      "in_reply_to_user_id           78 non-null float64\n",
      "timestamp                     2356 non-null object\n",
      "source                        2356 non-null object\n",
      "text                          2356 non-null object\n",
      "retweeted_status_id           181 non-null float64\n",
      "retweeted_status_user_id      181 non-null float64\n",
      "retweeted_status_timestamp    181 non-null object\n",
      "expanded_urls                 2297 non-null object\n",
      "rating_numerator              2356 non-null int64\n",
      "rating_denominator            2356 non-null int64\n",
      "name                          2356 non-null object\n",
      "dog_stage                     2356 non-null object\n",
      "dtypes: float64(4), int64(3), object(7)\n",
      "memory usage: 257.8+ KB\n"
     ]
    },
    {
     "data": {
      "text/plain": [
       "(None, None       1976\n",
       " pupper      245\n",
       " doggo        97\n",
       " puppo        29\n",
       " floofer       9\n",
       " Name: dog_stage, dtype: int64)"
      ]
     },
     "execution_count": 226,
     "metadata": {},
     "output_type": "execute_result"
    }
   ],
   "source": [
    "twitter_archive_clean.info() , twitter_archive_clean.dog_stage.value_counts()"
   ]
  },
  {
   "cell_type": "markdown",
   "metadata": {},
   "source": [
    "###  2.all three dataframes should be merged as they are relevant\n",
    "\n",
    "### Define \n",
    "as all data in the 3 dataframes are relevant it will be easier for us to merge the 3 of them\n",
    "\n",
    "## the 281 tweets without jpg_url will be removed (Quality issue no. 4)\n",
    "\n",
    "### Code\n"
   ]
  },
  {
   "cell_type": "code",
   "execution_count": 227,
   "metadata": {},
   "outputs": [],
   "source": [
    "twitter_archive_master = twitter_archive_clean.merge(image_predictions_clean,on='tweet_id').merge(r_f_counts_clean,on='tweet_id')"
   ]
  },
  {
   "cell_type": "code",
   "execution_count": 228,
   "metadata": {},
   "outputs": [
    {
     "name": "stdout",
     "output_type": "stream",
     "text": [
      "<class 'pandas.core.frame.DataFrame'>\n",
      "Int64Index: 2059 entries, 0 to 2058\n",
      "Data columns (total 27 columns):\n",
      "tweet_id                      2059 non-null int64\n",
      "in_reply_to_status_id         23 non-null float64\n",
      "in_reply_to_user_id           23 non-null float64\n",
      "timestamp                     2059 non-null object\n",
      "source                        2059 non-null object\n",
      "text                          2059 non-null object\n",
      "retweeted_status_id           72 non-null float64\n",
      "retweeted_status_user_id      72 non-null float64\n",
      "retweeted_status_timestamp    72 non-null object\n",
      "expanded_urls                 2059 non-null object\n",
      "rating_numerator              2059 non-null int64\n",
      "rating_denominator            2059 non-null int64\n",
      "name                          2059 non-null object\n",
      "dog_stage                     2059 non-null object\n",
      "jpg_url                       2059 non-null object\n",
      "img_num                       2059 non-null int64\n",
      "p1                            2059 non-null object\n",
      "p1_conf                       2059 non-null float64\n",
      "p1_dog                        2059 non-null bool\n",
      "p2                            2059 non-null object\n",
      "p2_conf                       2059 non-null float64\n",
      "p2_dog                        2059 non-null bool\n",
      "p3                            2059 non-null object\n",
      "p3_conf                       2059 non-null float64\n",
      "p3_dog                        2059 non-null bool\n",
      "retweet_count                 2059 non-null int64\n",
      "favorite_count                2059 non-null int64\n",
      "dtypes: bool(3), float64(7), int64(6), object(11)\n",
      "memory usage: 408.2+ KB\n"
     ]
    }
   ],
   "source": [
    "twitter_archive_master.info()"
   ]
  },
  {
   "cell_type": "markdown",
   "metadata": {},
   "source": [
    "## Quality issues\n",
    "\n",
    "### 1.rows that don't have dog images should be removed (p1_dog , p2_dog , and p3_dog are false)\n",
    "\n",
    "###  2.only the breed with the highest conf should be kept and remove others and create new column called (breed)\n",
    "\n",
    "### Code "
   ]
  },
  {
   "cell_type": "code",
   "execution_count": 229,
   "metadata": {},
   "outputs": [],
   "source": [
    "breed = []\n",
    "conf= []\n",
    "\n",
    "def breed_conf(row):\n",
    "    if row['p1_dog']:\n",
    "        breed.append(row['p1'])\n",
    "        conf.append(row['p1_conf'])\n",
    "    elif row['p2_dog']:\n",
    "        breed.append(row['p2'])\n",
    "        conf.append(row['p2_conf'])\n",
    "    elif row['p3_dog']:\n",
    "        breed.append(row['p3'])\n",
    "        conf.append(row['p3_conf'])\n",
    "    else:\n",
    "        breed.append('None')\n",
    "        conf.append(0)\n",
    "\n",
    "twitter_archive_master.apply(breed_conf, axis = 1)\n",
    "\n",
    "twitter_archive_master['breed'] = breed\n",
    "twitter_archive_master['confidence'] = conf"
   ]
  },
  {
   "cell_type": "code",
   "execution_count": 230,
   "metadata": {},
   "outputs": [],
   "source": [
    "twitter_archive_master = twitter_archive_master.drop(['img_num', 'p1', 'p1_conf', 'p1_dog', 'p2', 'p2_conf', 'p2_dog', 'p3', 'p3_conf', 'p3_dog'], 1)"
   ]
  },
  {
   "cell_type": "markdown",
   "metadata": {},
   "source": [
    "### Test"
   ]
  },
  {
   "cell_type": "code",
   "execution_count": 231,
   "metadata": {},
   "outputs": [
    {
     "name": "stdout",
     "output_type": "stream",
     "text": [
      "<class 'pandas.core.frame.DataFrame'>\n",
      "Int64Index: 2059 entries, 0 to 2058\n",
      "Data columns (total 19 columns):\n",
      "tweet_id                      2059 non-null int64\n",
      "in_reply_to_status_id         23 non-null float64\n",
      "in_reply_to_user_id           23 non-null float64\n",
      "timestamp                     2059 non-null object\n",
      "source                        2059 non-null object\n",
      "text                          2059 non-null object\n",
      "retweeted_status_id           72 non-null float64\n",
      "retweeted_status_user_id      72 non-null float64\n",
      "retweeted_status_timestamp    72 non-null object\n",
      "expanded_urls                 2059 non-null object\n",
      "rating_numerator              2059 non-null int64\n",
      "rating_denominator            2059 non-null int64\n",
      "name                          2059 non-null object\n",
      "dog_stage                     2059 non-null object\n",
      "jpg_url                       2059 non-null object\n",
      "retweet_count                 2059 non-null int64\n",
      "favorite_count                2059 non-null int64\n",
      "breed                         2059 non-null object\n",
      "confidence                    2059 non-null float64\n",
      "dtypes: float64(5), int64(5), object(9)\n",
      "memory usage: 321.7+ KB\n"
     ]
    },
    {
     "data": {
      "text/plain": [
       "(None                           322\n",
       " golden_retriever               173\n",
       " Labrador_retriever             110\n",
       " Pembroke                        95\n",
       " Chihuahua                       93\n",
       " pug                             65\n",
       " toy_poodle                      51\n",
       " chow                            51\n",
       " Samoyed                         45\n",
       " Pomeranian                      42\n",
       " malamute                        34\n",
       " cocker_spaniel                  33\n",
       " Chesapeake_Bay_retriever        31\n",
       " French_bulldog                  30\n",
       " miniature_pinscher              26\n",
       " Cardigan                        23\n",
       " Eskimo_dog                      22\n",
       " German_shepherd                 21\n",
       " beagle                          21\n",
       " Staffordshire_bullterrier       20\n",
       " Siberian_husky                  20\n",
       " Shih-Tzu                        20\n",
       " Maltese_dog                     19\n",
       " Shetland_sheepdog               19\n",
       " kuvasz                          19\n",
       " Lakeland_terrier                19\n",
       " Rottweiler                      19\n",
       " basset                          17\n",
       " Italian_greyhound               17\n",
       " West_Highland_white_terrier     16\n",
       "                               ... \n",
       " Saluki                           4\n",
       " bluetick                         4\n",
       " keeshond                         4\n",
       " Scottish_deerhound               4\n",
       " Welsh_springer_spaniel           4\n",
       " Weimaraner                       4\n",
       " Tibetan_terrier                  4\n",
       " Irish_water_spaniel              3\n",
       " komondor                         3\n",
       " briard                           3\n",
       " Greater_Swiss_Mountain_dog       3\n",
       " curly-coated_retriever           3\n",
       " toy_terrier                      3\n",
       " cairn                            3\n",
       " Leonberg                         3\n",
       " Brabancon_griffon                3\n",
       " Australian_terrier               2\n",
       " groenendael                      2\n",
       " Sussex_spaniel                   2\n",
       " wire-haired_fox_terrier          2\n",
       " black-and-tan_coonhound          2\n",
       " Appenzeller                      2\n",
       " Japanese_spaniel                 1\n",
       " EntleBucher                      1\n",
       " Bouvier_des_Flandres             1\n",
       " silky_terrier                    1\n",
       " standard_schnauzer               1\n",
       " clumber                          1\n",
       " Irish_wolfhound                  1\n",
       " Scotch_terrier                   1\n",
       " Name: breed, Length: 114, dtype: int64, None)"
      ]
     },
     "execution_count": 231,
     "metadata": {},
     "output_type": "execute_result"
    }
   ],
   "source": [
    "twitter_archive_master.breed.value_counts() , twitter_archive_master.info()"
   ]
  },
  {
   "cell_type": "markdown",
   "metadata": {},
   "source": [
    "### 3.we have 181 retweets should be removed (72 by now after the cleaning done)\n",
    "\n",
    "### Code"
   ]
  },
  {
   "cell_type": "code",
   "execution_count": 232,
   "metadata": {},
   "outputs": [],
   "source": [
    "twitter_archive_master = twitter_archive_master[twitter_archive_master.retweeted_status_id.isnull()]\n",
    "twitter_archive_master.drop(['retweeted_status_id', 'retweeted_status_user_id', 'retweeted_status_timestamp'] ,inplace = True , axis = 1)"
   ]
  },
  {
   "cell_type": "markdown",
   "metadata": {},
   "source": [
    "### Test"
   ]
  },
  {
   "cell_type": "code",
   "execution_count": 233,
   "metadata": {},
   "outputs": [
    {
     "name": "stdout",
     "output_type": "stream",
     "text": [
      "<class 'pandas.core.frame.DataFrame'>\n",
      "Int64Index: 1987 entries, 0 to 2058\n",
      "Data columns (total 16 columns):\n",
      "tweet_id                 1987 non-null int64\n",
      "in_reply_to_status_id    23 non-null float64\n",
      "in_reply_to_user_id      23 non-null float64\n",
      "timestamp                1987 non-null object\n",
      "source                   1987 non-null object\n",
      "text                     1987 non-null object\n",
      "expanded_urls            1987 non-null object\n",
      "rating_numerator         1987 non-null int64\n",
      "rating_denominator       1987 non-null int64\n",
      "name                     1987 non-null object\n",
      "dog_stage                1987 non-null object\n",
      "jpg_url                  1987 non-null object\n",
      "retweet_count            1987 non-null int64\n",
      "favorite_count           1987 non-null int64\n",
      "breed                    1987 non-null object\n",
      "confidence               1987 non-null float64\n",
      "dtypes: float64(3), int64(5), object(8)\n",
      "memory usage: 263.9+ KB\n"
     ]
    }
   ],
   "source": [
    "twitter_archive_master.info()"
   ]
  },
  {
   "cell_type": "markdown",
   "metadata": {},
   "source": [
    "### 4. 78 replies should be removed\n",
    "\n",
    "### Code"
   ]
  },
  {
   "cell_type": "code",
   "execution_count": 234,
   "metadata": {},
   "outputs": [],
   "source": [
    "twitter_archive_master = twitter_archive_master[twitter_archive_master.in_reply_to_status_id.isnull()]\n",
    "twitter_archive_master.drop(['in_reply_to_status_id', 'in_reply_to_user_id'] ,inplace = True , axis = 1)"
   ]
  },
  {
   "cell_type": "markdown",
   "metadata": {},
   "source": [
    "### Test"
   ]
  },
  {
   "cell_type": "code",
   "execution_count": 235,
   "metadata": {},
   "outputs": [
    {
     "name": "stdout",
     "output_type": "stream",
     "text": [
      "<class 'pandas.core.frame.DataFrame'>\n",
      "Int64Index: 1964 entries, 0 to 2058\n",
      "Data columns (total 14 columns):\n",
      "tweet_id              1964 non-null int64\n",
      "timestamp             1964 non-null object\n",
      "source                1964 non-null object\n",
      "text                  1964 non-null object\n",
      "expanded_urls         1964 non-null object\n",
      "rating_numerator      1964 non-null int64\n",
      "rating_denominator    1964 non-null int64\n",
      "name                  1964 non-null object\n",
      "dog_stage             1964 non-null object\n",
      "jpg_url               1964 non-null object\n",
      "retweet_count         1964 non-null int64\n",
      "favorite_count        1964 non-null int64\n",
      "breed                 1964 non-null object\n",
      "confidence            1964 non-null float64\n",
      "dtypes: float64(1), int64(5), object(8)\n",
      "memory usage: 230.2+ KB\n"
     ]
    }
   ],
   "source": [
    "twitter_archive_master.info()"
   ]
  },
  {
   "cell_type": "markdown",
   "metadata": {},
   "source": [
    "### 5.unnecessary html format of source column\n",
    "\n",
    "### Code"
   ]
  },
  {
   "cell_type": "code",
   "execution_count": 236,
   "metadata": {},
   "outputs": [
    {
     "data": {
      "text/plain": [
       "<a href=\"http://twitter.com/download/iphone\" rel=\"nofollow\">Twitter for iPhone</a>     1926\n",
       "<a href=\"http://twitter.com\" rel=\"nofollow\">Twitter Web Client</a>                       28\n",
       "<a href=\"https://about.twitter.com/products/tweetdeck\" rel=\"nofollow\">TweetDeck</a>      10\n",
       "Name: source, dtype: int64"
      ]
     },
     "execution_count": 236,
     "metadata": {},
     "output_type": "execute_result"
    }
   ],
   "source": [
    "twitter_archive_master.source.value_counts()"
   ]
  },
  {
   "cell_type": "code",
   "execution_count": 237,
   "metadata": {},
   "outputs": [],
   "source": [
    "twitter_archive_master['source'] = twitter_archive_master['source'].replace(['<a href=\"http://twitter.com/download/iphone\" rel=\"nofollow\">Twitter for iPhone</a>','<a href=\"http://twitter.com\" rel=\"nofollow\">Twitter Web Client</a>', '<a href=\"https://about.twitter.com/products/tweetdeck\" rel=\"nofollow\">TweetDeck</a>'],['Twitter for iPhone','Twitter Web Client', 'TweetDeck'])"
   ]
  },
  {
   "cell_type": "markdown",
   "metadata": {},
   "source": [
    "### Test"
   ]
  },
  {
   "cell_type": "code",
   "execution_count": 238,
   "metadata": {},
   "outputs": [
    {
     "data": {
      "text/plain": [
       "Twitter for iPhone    1926\n",
       "Twitter Web Client      28\n",
       "TweetDeck               10\n",
       "Name: source, dtype: int64"
      ]
     },
     "execution_count": 238,
     "metadata": {},
     "output_type": "execute_result"
    }
   ],
   "source": [
    "twitter_archive_master.source.value_counts()"
   ]
  },
  {
   "cell_type": "markdown",
   "metadata": {},
   "source": [
    "### 6.timestamp column is string not a timestamp ( and changing other formats like source, dog_stage , breed, rating_numerator and rating_denominator)\n",
    "\n",
    "### Code"
   ]
  },
  {
   "cell_type": "code",
   "execution_count": 239,
   "metadata": {},
   "outputs": [],
   "source": [
    "twitter_archive_master['timestamp'] =  pd.to_datetime(twitter_archive_master['timestamp'])\n",
    "twitter_archive_master.source = twitter_archive_master.source.astype('category')\n",
    "twitter_archive_master.dog_stage = twitter_archive_master.dog_stage.astype('category')\n",
    "twitter_archive_master.breed = twitter_archive_master.breed.astype('category')\n",
    "twitter_archive_master.rating_numerator = twitter_archive_master.rating_numerator.astype('float')\n",
    "twitter_archive_master.rating_denominator = twitter_archive_master.rating_denominator.astype('float')"
   ]
  },
  {
   "cell_type": "markdown",
   "metadata": {},
   "source": [
    "### Test"
   ]
  },
  {
   "cell_type": "code",
   "execution_count": 240,
   "metadata": {},
   "outputs": [
    {
     "name": "stdout",
     "output_type": "stream",
     "text": [
      "<class 'pandas.core.frame.DataFrame'>\n",
      "Int64Index: 1964 entries, 0 to 2058\n",
      "Data columns (total 14 columns):\n",
      "tweet_id              1964 non-null int64\n",
      "timestamp             1964 non-null datetime64[ns]\n",
      "source                1964 non-null category\n",
      "text                  1964 non-null object\n",
      "expanded_urls         1964 non-null object\n",
      "rating_numerator      1964 non-null float64\n",
      "rating_denominator    1964 non-null float64\n",
      "name                  1964 non-null object\n",
      "dog_stage             1964 non-null category\n",
      "jpg_url               1964 non-null object\n",
      "retweet_count         1964 non-null int64\n",
      "favorite_count        1964 non-null int64\n",
      "breed                 1964 non-null category\n",
      "confidence            1964 non-null float64\n",
      "dtypes: category(3), datetime64[ns](1), float64(3), int64(3), object(4)\n",
      "memory usage: 196.1+ KB\n"
     ]
    }
   ],
   "source": [
    "twitter_archive_master.info()"
   ]
  },
  {
   "cell_type": "markdown",
   "metadata": {},
   "source": [
    "### 7.numenator very high values and very low values (less than 10)\n",
    "\n",
    "### Define\n",
    "we will try removing outliers as much as we can so we can get as accurate ratings as we can\n",
    "\n",
    "### Code"
   ]
  },
  {
   "cell_type": "code",
   "execution_count": 241,
   "metadata": {},
   "outputs": [],
   "source": [
    "twitter_archive_master.rating_numerator.clip(lower = 10 , upper = 30, inplace = True)"
   ]
  },
  {
   "cell_type": "markdown",
   "metadata": {},
   "source": [
    "### Test"
   ]
  },
  {
   "cell_type": "code",
   "execution_count": 242,
   "metadata": {},
   "outputs": [
    {
     "data": {
      "text/html": [
       "<div>\n",
       "<style scoped>\n",
       "    .dataframe tbody tr th:only-of-type {\n",
       "        vertical-align: middle;\n",
       "    }\n",
       "\n",
       "    .dataframe tbody tr th {\n",
       "        vertical-align: top;\n",
       "    }\n",
       "\n",
       "    .dataframe thead th {\n",
       "        text-align: right;\n",
       "    }\n",
       "</style>\n",
       "<table border=\"1\" class=\"dataframe\">\n",
       "  <thead>\n",
       "    <tr style=\"text-align: right;\">\n",
       "      <th></th>\n",
       "      <th>tweet_id</th>\n",
       "      <th>in_reply_to_status_id</th>\n",
       "      <th>in_reply_to_user_id</th>\n",
       "      <th>retweeted_status_id</th>\n",
       "      <th>retweeted_status_user_id</th>\n",
       "      <th>rating_numerator</th>\n",
       "      <th>rating_denominator</th>\n",
       "    </tr>\n",
       "  </thead>\n",
       "  <tbody>\n",
       "    <tr>\n",
       "      <th>count</th>\n",
       "      <td>2.356000e+03</td>\n",
       "      <td>7.800000e+01</td>\n",
       "      <td>7.800000e+01</td>\n",
       "      <td>1.810000e+02</td>\n",
       "      <td>1.810000e+02</td>\n",
       "      <td>2356.000000</td>\n",
       "      <td>2356.000000</td>\n",
       "    </tr>\n",
       "    <tr>\n",
       "      <th>mean</th>\n",
       "      <td>7.427716e+17</td>\n",
       "      <td>7.455079e+17</td>\n",
       "      <td>2.014171e+16</td>\n",
       "      <td>7.720400e+17</td>\n",
       "      <td>1.241698e+16</td>\n",
       "      <td>13.126486</td>\n",
       "      <td>10.455433</td>\n",
       "    </tr>\n",
       "    <tr>\n",
       "      <th>std</th>\n",
       "      <td>6.856705e+16</td>\n",
       "      <td>7.582492e+16</td>\n",
       "      <td>1.252797e+17</td>\n",
       "      <td>6.236928e+16</td>\n",
       "      <td>9.599254e+16</td>\n",
       "      <td>45.876648</td>\n",
       "      <td>6.745237</td>\n",
       "    </tr>\n",
       "    <tr>\n",
       "      <th>min</th>\n",
       "      <td>6.660209e+17</td>\n",
       "      <td>6.658147e+17</td>\n",
       "      <td>1.185634e+07</td>\n",
       "      <td>6.661041e+17</td>\n",
       "      <td>7.832140e+05</td>\n",
       "      <td>0.000000</td>\n",
       "      <td>0.000000</td>\n",
       "    </tr>\n",
       "    <tr>\n",
       "      <th>25%</th>\n",
       "      <td>6.783989e+17</td>\n",
       "      <td>6.757419e+17</td>\n",
       "      <td>3.086374e+08</td>\n",
       "      <td>7.186315e+17</td>\n",
       "      <td>4.196984e+09</td>\n",
       "      <td>10.000000</td>\n",
       "      <td>10.000000</td>\n",
       "    </tr>\n",
       "    <tr>\n",
       "      <th>50%</th>\n",
       "      <td>7.196279e+17</td>\n",
       "      <td>7.038708e+17</td>\n",
       "      <td>4.196984e+09</td>\n",
       "      <td>7.804657e+17</td>\n",
       "      <td>4.196984e+09</td>\n",
       "      <td>11.000000</td>\n",
       "      <td>10.000000</td>\n",
       "    </tr>\n",
       "    <tr>\n",
       "      <th>75%</th>\n",
       "      <td>7.993373e+17</td>\n",
       "      <td>8.257804e+17</td>\n",
       "      <td>4.196984e+09</td>\n",
       "      <td>8.203146e+17</td>\n",
       "      <td>4.196984e+09</td>\n",
       "      <td>12.000000</td>\n",
       "      <td>10.000000</td>\n",
       "    </tr>\n",
       "    <tr>\n",
       "      <th>max</th>\n",
       "      <td>8.924206e+17</td>\n",
       "      <td>8.862664e+17</td>\n",
       "      <td>8.405479e+17</td>\n",
       "      <td>8.874740e+17</td>\n",
       "      <td>7.874618e+17</td>\n",
       "      <td>1776.000000</td>\n",
       "      <td>170.000000</td>\n",
       "    </tr>\n",
       "  </tbody>\n",
       "</table>\n",
       "</div>"
      ],
      "text/plain": [
       "           tweet_id  in_reply_to_status_id  in_reply_to_user_id  \\\n",
       "count  2.356000e+03           7.800000e+01         7.800000e+01   \n",
       "mean   7.427716e+17           7.455079e+17         2.014171e+16   \n",
       "std    6.856705e+16           7.582492e+16         1.252797e+17   \n",
       "min    6.660209e+17           6.658147e+17         1.185634e+07   \n",
       "25%    6.783989e+17           6.757419e+17         3.086374e+08   \n",
       "50%    7.196279e+17           7.038708e+17         4.196984e+09   \n",
       "75%    7.993373e+17           8.257804e+17         4.196984e+09   \n",
       "max    8.924206e+17           8.862664e+17         8.405479e+17   \n",
       "\n",
       "       retweeted_status_id  retweeted_status_user_id  rating_numerator  \\\n",
       "count         1.810000e+02              1.810000e+02       2356.000000   \n",
       "mean          7.720400e+17              1.241698e+16         13.126486   \n",
       "std           6.236928e+16              9.599254e+16         45.876648   \n",
       "min           6.661041e+17              7.832140e+05          0.000000   \n",
       "25%           7.186315e+17              4.196984e+09         10.000000   \n",
       "50%           7.804657e+17              4.196984e+09         11.000000   \n",
       "75%           8.203146e+17              4.196984e+09         12.000000   \n",
       "max           8.874740e+17              7.874618e+17       1776.000000   \n",
       "\n",
       "       rating_denominator  \n",
       "count         2356.000000  \n",
       "mean            10.455433  \n",
       "std              6.745237  \n",
       "min              0.000000  \n",
       "25%             10.000000  \n",
       "50%             10.000000  \n",
       "75%             10.000000  \n",
       "max            170.000000  "
      ]
     },
     "execution_count": 242,
     "metadata": {},
     "output_type": "execute_result"
    }
   ],
   "source": [
    "twitter_archive_clean.rating_numerator.value_counts()\n",
    "twitter_archive_clean.describe()"
   ]
  },
  {
   "cell_type": "markdown",
   "metadata": {},
   "source": [
    "### 8.denominator values that are not 10\n",
    "\n",
    "### Define\n",
    "according to this unique rating system all denominators should be 10\n",
    "\n",
    "### Code\n"
   ]
  },
  {
   "cell_type": "code",
   "execution_count": 243,
   "metadata": {},
   "outputs": [],
   "source": [
    "twitter_archive_master['rating_denominator'] = 10.0"
   ]
  },
  {
   "cell_type": "markdown",
   "metadata": {},
   "source": [
    "### Test"
   ]
  },
  {
   "cell_type": "code",
   "execution_count": 244,
   "metadata": {},
   "outputs": [
    {
     "data": {
      "text/plain": [
       "10.0    1964\n",
       "Name: rating_denominator, dtype: int64"
      ]
     },
     "execution_count": 244,
     "metadata": {},
     "output_type": "execute_result"
    }
   ],
   "source": [
    "twitter_archive_master.rating_denominator.value_counts()"
   ]
  },
  {
   "cell_type": "markdown",
   "metadata": {},
   "source": [
    "###  9.some wrong dog names like a, an, the and his\n",
    "\n",
    "### Define \n",
    "\n",
    "we have some dog names wrong that are better be put as 'none'\n",
    "\n",
    "### Code"
   ]
  },
  {
   "cell_type": "code",
   "execution_count": 245,
   "metadata": {},
   "outputs": [
    {
     "data": {
      "text/plain": [
       "None         524\n",
       "a             55\n",
       "Cooper        10\n",
       "Charlie       10\n",
       "Oliver        10\n",
       "Penny          9\n",
       "Lucy           9\n",
       "Tucker         9\n",
       "Winston        8\n",
       "Sadie          8\n",
       "Toby           7\n",
       "Daisy          7\n",
       "Lola           7\n",
       "the            7\n",
       "Bo             6\n",
       "Koda           6\n",
       "Stanley        6\n",
       "Bella          6\n",
       "an             6\n",
       "Jax            6\n",
       "Leo            5\n",
       "Chester        5\n",
       "Dave           5\n",
       "Bailey         5\n",
       "Milo           5\n",
       "Rusty          5\n",
       "Louis          5\n",
       "Buddy          5\n",
       "Scout          5\n",
       "Oscar          5\n",
       "            ... \n",
       "by             1\n",
       "Zuzu           1\n",
       "Wishes         1\n",
       "Zoe            1\n",
       "Lilli          1\n",
       "Lenox          1\n",
       "Cilantro       1\n",
       "Bode           1\n",
       "Scruffers      1\n",
       "Comet          1\n",
       "Pipsy          1\n",
       "Fletcher       1\n",
       "Devón          1\n",
       "Vinscent       1\n",
       "Kellogg        1\n",
       "Liam           1\n",
       "Tanner         1\n",
       "Nida           1\n",
       "Dylan          1\n",
       "Link           1\n",
       "Binky          1\n",
       "Sprinkles      1\n",
       "JD             1\n",
       "Traviss        1\n",
       "Diogi          1\n",
       "Fred           1\n",
       "Millie         1\n",
       "Jameson        1\n",
       "Sephie         1\n",
       "Karl           1\n",
       "Name: name, Length: 933, dtype: int64"
      ]
     },
     "execution_count": 245,
     "metadata": {},
     "output_type": "execute_result"
    }
   ],
   "source": [
    "twitter_archive_master.name.value_counts()"
   ]
  },
  {
   "cell_type": "code",
   "execution_count": 246,
   "metadata": {},
   "outputs": [],
   "source": [
    "twitter_archive_master[\"name\"].replace(to_replace = r'^[a-z]+', value = 'None', inplace=True, regex=True)\n",
    "# twitter_archive_master = twitter_archive_master[~twitter_archive_master['name'].str[0].str.islower().fillna(True)]"
   ]
  },
  {
   "cell_type": "markdown",
   "metadata": {},
   "source": [
    "### Test"
   ]
  },
  {
   "cell_type": "code",
   "execution_count": 247,
   "metadata": {},
   "outputs": [
    {
     "data": {
      "text/plain": [
       "None            622\n",
       "Charlie          10\n",
       "Cooper           10\n",
       "Oliver           10\n",
       "Tucker            9\n",
       "Penny             9\n",
       "Lucy              9\n",
       "Sadie             8\n",
       "Winston           8\n",
       "Daisy             7\n",
       "Lola              7\n",
       "Toby              7\n",
       "Bella             6\n",
       "Stanley           6\n",
       "Jax               6\n",
       "Koda              6\n",
       "Bo                6\n",
       "Leo               5\n",
       "Louis             5\n",
       "Milo              5\n",
       "Scout             5\n",
       "Buddy             5\n",
       "Rusty             5\n",
       "Dave              5\n",
       "Oscar             5\n",
       "Bailey            5\n",
       "Chester           5\n",
       "Finn              4\n",
       "Bentley           4\n",
       "Phil              4\n",
       "               ... \n",
       "Zoe               1\n",
       "Jay               1\n",
       "Alexanderson      1\n",
       "Ralph             1\n",
       "Dudley            1\n",
       "Kuyu              1\n",
       "Batdog            1\n",
       "Julius            1\n",
       "Link              1\n",
       "Pipsy             1\n",
       "Fletcher          1\n",
       "Devón             1\n",
       "Vinscent          1\n",
       "Kellogg           1\n",
       "Liam              1\n",
       "Tanner            1\n",
       "Nida              1\n",
       "Dylan             1\n",
       "Sprinkles         1\n",
       "Lilli             1\n",
       "Traviss           1\n",
       "Diogi             1\n",
       "Fred              1\n",
       "Millie            1\n",
       "Jameson           1\n",
       "Sephie            1\n",
       "Bode              1\n",
       "Lenox             1\n",
       "Gromit            1\n",
       "Freddery          1\n",
       "Name: name, Length: 911, dtype: int64"
      ]
     },
     "execution_count": 247,
     "metadata": {},
     "output_type": "execute_result"
    }
   ],
   "source": [
    "twitter_archive_master.name.value_counts()"
   ]
  },
  {
   "cell_type": "markdown",
   "metadata": {},
   "source": [
    "# Storing Data"
   ]
  },
  {
   "cell_type": "code",
   "execution_count": 248,
   "metadata": {},
   "outputs": [],
   "source": [
    "twitter_archive_master.to_csv('twitter_archive_master.csv')"
   ]
  },
  {
   "cell_type": "markdown",
   "metadata": {},
   "source": [
    "# Analysis and Visualization\n",
    "\n",
    "## Here are the 4 insigts we will work on\n",
    "#### top 10 breeds ratings\n",
    "#### Relation between dog stage and numerator rating\n",
    "#### top 10 dog names\n",
    "\n",
    "### 1.Top 10 breed ratings\n",
    "\n",
    "#### Code"
   ]
  },
  {
   "cell_type": "code",
   "execution_count": 258,
   "metadata": {
    "scrolled": true
   },
   "outputs": [
    {
     "data": {
      "text/plain": [
       "breed\n",
       "golden_retriever      156.0\n",
       "Labrador_retriever    104.0\n",
       "Pembroke               94.0\n",
       "Chihuahua              90.0\n",
       "pug                    62.0\n",
       "toy_poodle             49.0\n",
       "chow                   48.0\n",
       "Pomeranian             41.0\n",
       "Samoyed                41.0\n",
       "malamute               33.0\n",
       "Name: count, dtype: float64"
      ]
     },
     "execution_count": 258,
     "metadata": {},
     "output_type": "execute_result"
    }
   ],
   "source": [
    "is_not_none =  twitter_archive_master['breed']!= 'None'\n",
    "not_none_df = twitter_archive_master[is_not_none]\n",
    "df_ratings = not_none_df.groupby('breed')['rating_numerator'].describe().nlargest(10,'count')\n",
    "df_ratings =df_ratings['count']\n",
    "df_ratings"
   ]
  },
  {
   "cell_type": "code",
   "execution_count": 260,
   "metadata": {},
   "outputs": [
    {
     "data": {
      "image/png": "[encoded data removed]",
      "text/plain": [
       "<matplotlib.figure.Figure at 0x7fbb924a09e8>"
      ]
     },
     "metadata": {
      "needs_background": "light"
     },
     "output_type": "display_data"
    }
   ],
   "source": [
    "%matplotlib inline\n",
    "df_ratings.plot(kind='bar',figsize= [6,6]);\n",
    "plt.title('Count of top 10 breeds');"
   ]
  },
  {
   "cell_type": "markdown",
   "metadata": {},
   "source": [
    "### 2. Relation between dog stage and numerator rating"
   ]
  },
  {
   "cell_type": "code",
   "execution_count": 250,
   "metadata": {},
   "outputs": [
    {
     "data": {
      "text/html": [
       "<div>\n",
       "<style scoped>\n",
       "    .dataframe tbody tr th:only-of-type {\n",
       "        vertical-align: middle;\n",
       "    }\n",
       "\n",
       "    .dataframe tbody tr th {\n",
       "        vertical-align: top;\n",
       "    }\n",
       "\n",
       "    .dataframe thead th {\n",
       "        text-align: right;\n",
       "    }\n",
       "</style>\n",
       "<table border=\"1\" class=\"dataframe\">\n",
       "  <thead>\n",
       "    <tr style=\"text-align: right;\">\n",
       "      <th></th>\n",
       "      <th>count</th>\n",
       "      <th>mean</th>\n",
       "      <th>std</th>\n",
       "      <th>min</th>\n",
       "      <th>25%</th>\n",
       "      <th>50%</th>\n",
       "      <th>75%</th>\n",
       "      <th>max</th>\n",
       "    </tr>\n",
       "    <tr>\n",
       "      <th>dog_stage</th>\n",
       "      <th></th>\n",
       "      <th></th>\n",
       "      <th></th>\n",
       "      <th></th>\n",
       "      <th></th>\n",
       "      <th></th>\n",
       "      <th></th>\n",
       "      <th></th>\n",
       "    </tr>\n",
       "  </thead>\n",
       "  <tbody>\n",
       "    <tr>\n",
       "      <th>None</th>\n",
       "      <td>1662.0</td>\n",
       "      <td>11.253911</td>\n",
       "      <td>2.164634</td>\n",
       "      <td>10.0</td>\n",
       "      <td>10.00</td>\n",
       "      <td>11.0</td>\n",
       "      <td>12.0</td>\n",
       "      <td>30.0</td>\n",
       "    </tr>\n",
       "    <tr>\n",
       "      <th>doggo</th>\n",
       "      <td>72.0</td>\n",
       "      <td>11.930556</td>\n",
       "      <td>1.237061</td>\n",
       "      <td>10.0</td>\n",
       "      <td>11.00</td>\n",
       "      <td>12.0</td>\n",
       "      <td>13.0</td>\n",
       "      <td>14.0</td>\n",
       "    </tr>\n",
       "    <tr>\n",
       "      <th>floofer</th>\n",
       "      <td>7.0</td>\n",
       "      <td>12.000000</td>\n",
       "      <td>1.154701</td>\n",
       "      <td>10.0</td>\n",
       "      <td>11.50</td>\n",
       "      <td>12.0</td>\n",
       "      <td>13.0</td>\n",
       "      <td>13.0</td>\n",
       "    </tr>\n",
       "    <tr>\n",
       "      <th>pupper</th>\n",
       "      <td>201.0</td>\n",
       "      <td>11.114428</td>\n",
       "      <td>1.575386</td>\n",
       "      <td>10.0</td>\n",
       "      <td>10.00</td>\n",
       "      <td>11.0</td>\n",
       "      <td>12.0</td>\n",
       "      <td>27.0</td>\n",
       "    </tr>\n",
       "    <tr>\n",
       "      <th>puppo</th>\n",
       "      <td>22.0</td>\n",
       "      <td>12.045455</td>\n",
       "      <td>1.214095</td>\n",
       "      <td>10.0</td>\n",
       "      <td>11.25</td>\n",
       "      <td>12.0</td>\n",
       "      <td>13.0</td>\n",
       "      <td>14.0</td>\n",
       "    </tr>\n",
       "  </tbody>\n",
       "</table>\n",
       "</div>"
      ],
      "text/plain": [
       "            count       mean       std   min    25%   50%   75%   max\n",
       "dog_stage                                                            \n",
       "None       1662.0  11.253911  2.164634  10.0  10.00  11.0  12.0  30.0\n",
       "doggo        72.0  11.930556  1.237061  10.0  11.00  12.0  13.0  14.0\n",
       "floofer       7.0  12.000000  1.154701  10.0  11.50  12.0  13.0  13.0\n",
       "pupper      201.0  11.114428  1.575386  10.0  10.00  11.0  12.0  27.0\n",
       "puppo        22.0  12.045455  1.214095  10.0  11.25  12.0  13.0  14.0"
      ]
     },
     "execution_count": 250,
     "metadata": {},
     "output_type": "execute_result"
    }
   ],
   "source": [
    "twitter_archive_master.groupby('dog_stage')['rating_numerator'].describe()"
   ]
  },
  {
   "cell_type": "markdown",
   "metadata": {},
   "source": [
    "### 3.Top 10 dog names"
   ]
  },
  {
   "cell_type": "code",
   "execution_count": 263,
   "metadata": {},
   "outputs": [
    {
     "data": {
      "text/plain": [
       "Charlie    10\n",
       "Cooper     10\n",
       "Oliver     10\n",
       "Penny       9\n",
       "Lucy        9\n",
       "Tucker      9\n",
       "Winston     8\n",
       "Sadie       8\n",
       "Lola        7\n",
       "Toby        7\n",
       "Name: name, dtype: int64"
      ]
     },
     "execution_count": 263,
     "metadata": {},
     "output_type": "execute_result"
    }
   ],
   "source": [
    "is_not_none =  twitter_archive_master['name']!= 'None'\n",
    "not_none_df = twitter_archive_master[is_not_none]\n",
    "top_names = not_none_df['name'].value_counts().nlargest(10)\n",
    "top_names"
   ]
  },
  {
   "cell_type": "code",
   "execution_count": 267,
   "metadata": {},
   "outputs": [
    {
     "data": {
      "image/png": "[encoded data removed]",
      "text/plain": [
       "<matplotlib.figure.Figure at 0x7fbb9232ecc0>"
      ]
     },
     "metadata": {
      "needs_background": "light"
     },
     "output_type": "display_data"
    }
   ],
   "source": [
    "plt.ylabel('Values')\n",
    "top_names.plot(kind=\"bar\");"
   ]
  },
  {
   "cell_type": "code",
   "execution_count": null,
   "metadata": {},
   "outputs": [],
   "source": []
  }
 ],
 "metadata": {
  "kernelspec": {
   "display_name": "Python 3",
   "language": "python",
   "name": "python3"
  },
  "language_info": {
   "codemirror_mode": {
    "name": "ipython",
    "version": 3
   },
   "file_extension": ".py",
   "mimetype": "text/x-python",
   "name": "python",
   "nbconvert_exporter": "python",
   "pygments_lexer": "ipython3",
   "version": "3.6.3"
  }
 },
 "nbformat": 4,
 "nbformat_minor": 2
}